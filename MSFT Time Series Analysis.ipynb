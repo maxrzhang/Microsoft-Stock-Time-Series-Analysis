{
 "cells": [
  {
   "cell_type": "markdown",
   "metadata": {},
   "source": [
    "# MICROSOFT STOCK PRICE TIME SERIES ANALYSIS"
   ]
  },
  {
   "cell_type": "markdown",
   "metadata": {},
   "source": [
    "Within this Jupyter Notebook, we will attempt to forecast and model the future price of Microsoft stock through Time Series Analysis and SARIMAX models, while also modelling out potential trades and profits that could be made based on our forecast through training and test sets"
   ]
  },
  {
   "cell_type": "markdown",
   "metadata": {},
   "source": [
    "## Importing Necessary Libraries"
   ]
  },
  {
   "cell_type": "code",
   "execution_count": 1,
   "metadata": {},
   "outputs": [],
   "source": [
    "import pandas as pd\n",
    "import numpy as np\n",
    "import matplotlib.pyplot as plt\n",
    "from datetime import timedelta\n",
    "\n",
    "import statsmodels.api as sm\n",
    "from statsmodels.tsa.seasonal import seasonal_decompose\n",
    "from statsmodels.tsa.stattools import adfuller\n",
    "from statsmodels.tsa.stattools import acf\n",
    "from statsmodels.tsa.stattools import pacf\n",
    "from statsmodels.tsa.arima_model import ARMA\n",
    "from pmdarima import auto_arima\n",
    "\n",
    "from sklearn import metrics\n",
    "from sklearn.metrics import confusion_matrix, accuracy_score, precision_score, roc_auc_score"
   ]
  },
  {
   "cell_type": "markdown",
   "metadata": {},
   "source": [
    "## Reading in the Stock Price Data and Preprocessing the Data"
   ]
  },
  {
   "cell_type": "code",
   "execution_count": 2,
   "metadata": {},
   "outputs": [
    {
     "data": {
      "text/html": [
       "<div>\n",
       "<style scoped>\n",
       "    .dataframe tbody tr th:only-of-type {\n",
       "        vertical-align: middle;\n",
       "    }\n",
       "\n",
       "    .dataframe tbody tr th {\n",
       "        vertical-align: top;\n",
       "    }\n",
       "\n",
       "    .dataframe thead th {\n",
       "        text-align: right;\n",
       "    }\n",
       "</style>\n",
       "<table border=\"1\" class=\"dataframe\">\n",
       "  <thead>\n",
       "    <tr style=\"text-align: right;\">\n",
       "      <th></th>\n",
       "      <th>Date</th>\n",
       "      <th>Open</th>\n",
       "      <th>High</th>\n",
       "      <th>Low</th>\n",
       "      <th>Close</th>\n",
       "      <th>Adj Close</th>\n",
       "      <th>Volume</th>\n",
       "    </tr>\n",
       "  </thead>\n",
       "  <tbody>\n",
       "    <tr>\n",
       "      <td>0</td>\n",
       "      <td>2019-05-08</td>\n",
       "      <td>125.440002</td>\n",
       "      <td>126.370003</td>\n",
       "      <td>124.750000</td>\n",
       "      <td>125.510002</td>\n",
       "      <td>123.871117</td>\n",
       "      <td>28419000</td>\n",
       "    </tr>\n",
       "    <tr>\n",
       "      <td>1</td>\n",
       "      <td>2019-05-09</td>\n",
       "      <td>124.290001</td>\n",
       "      <td>125.790001</td>\n",
       "      <td>123.570000</td>\n",
       "      <td>125.500000</td>\n",
       "      <td>123.861244</td>\n",
       "      <td>27235800</td>\n",
       "    </tr>\n",
       "    <tr>\n",
       "      <td>2</td>\n",
       "      <td>2019-05-10</td>\n",
       "      <td>124.910004</td>\n",
       "      <td>127.930000</td>\n",
       "      <td>123.820000</td>\n",
       "      <td>127.129997</td>\n",
       "      <td>125.469955</td>\n",
       "      <td>30915100</td>\n",
       "    </tr>\n",
       "    <tr>\n",
       "      <td>3</td>\n",
       "      <td>2019-05-13</td>\n",
       "      <td>124.110001</td>\n",
       "      <td>125.550003</td>\n",
       "      <td>123.040001</td>\n",
       "      <td>123.349998</td>\n",
       "      <td>121.739311</td>\n",
       "      <td>33944900</td>\n",
       "    </tr>\n",
       "    <tr>\n",
       "      <td>4</td>\n",
       "      <td>2019-05-14</td>\n",
       "      <td>123.870003</td>\n",
       "      <td>125.879997</td>\n",
       "      <td>123.699997</td>\n",
       "      <td>124.730003</td>\n",
       "      <td>123.101303</td>\n",
       "      <td>25266300</td>\n",
       "    </tr>\n",
       "  </tbody>\n",
       "</table>\n",
       "</div>"
      ],
      "text/plain": [
       "         Date        Open        High         Low       Close   Adj Close  \\\n",
       "0  2019-05-08  125.440002  126.370003  124.750000  125.510002  123.871117   \n",
       "1  2019-05-09  124.290001  125.790001  123.570000  125.500000  123.861244   \n",
       "2  2019-05-10  124.910004  127.930000  123.820000  127.129997  125.469955   \n",
       "3  2019-05-13  124.110001  125.550003  123.040001  123.349998  121.739311   \n",
       "4  2019-05-14  123.870003  125.879997  123.699997  124.730003  123.101303   \n",
       "\n",
       "     Volume  \n",
       "0  28419000  \n",
       "1  27235800  \n",
       "2  30915100  \n",
       "3  33944900  \n",
       "4  25266300  "
      ]
     },
     "execution_count": 2,
     "metadata": {},
     "output_type": "execute_result"
    }
   ],
   "source": [
    "MSFT = pd.read_csv('MSFT.csv')\n",
    "MSFT.head()"
   ]
  },
  {
   "cell_type": "code",
   "execution_count": 3,
   "metadata": {},
   "outputs": [],
   "source": [
    "MSFT.Date = pd.to_datetime(MSFT.Date)\n",
    "MSFT = MSFT.sort_values('Date')\n",
    "MSFT.Date = MSFT.Date + timedelta(hours = 16)"
   ]
  },
  {
   "cell_type": "code",
   "execution_count": 4,
   "metadata": {},
   "outputs": [
    {
     "data": {
      "text/html": [
       "<div>\n",
       "<style scoped>\n",
       "    .dataframe tbody tr th:only-of-type {\n",
       "        vertical-align: middle;\n",
       "    }\n",
       "\n",
       "    .dataframe tbody tr th {\n",
       "        vertical-align: top;\n",
       "    }\n",
       "\n",
       "    .dataframe thead th {\n",
       "        text-align: right;\n",
       "    }\n",
       "</style>\n",
       "<table border=\"1\" class=\"dataframe\">\n",
       "  <thead>\n",
       "    <tr style=\"text-align: right;\">\n",
       "      <th></th>\n",
       "      <th>Date</th>\n",
       "      <th>Open</th>\n",
       "      <th>High</th>\n",
       "      <th>Low</th>\n",
       "      <th>Close</th>\n",
       "      <th>Adj Close</th>\n",
       "      <th>Volume</th>\n",
       "    </tr>\n",
       "  </thead>\n",
       "  <tbody>\n",
       "    <tr>\n",
       "      <td>0</td>\n",
       "      <td>2019-05-08 09:30:00</td>\n",
       "      <td>125.440002</td>\n",
       "      <td>126.370003</td>\n",
       "      <td>124.750000</td>\n",
       "      <td>125.510002</td>\n",
       "      <td>123.871117</td>\n",
       "      <td>28419000</td>\n",
       "    </tr>\n",
       "    <tr>\n",
       "      <td>1</td>\n",
       "      <td>2019-05-09 09:30:00</td>\n",
       "      <td>124.290001</td>\n",
       "      <td>125.790001</td>\n",
       "      <td>123.570000</td>\n",
       "      <td>125.500000</td>\n",
       "      <td>123.861244</td>\n",
       "      <td>27235800</td>\n",
       "    </tr>\n",
       "    <tr>\n",
       "      <td>2</td>\n",
       "      <td>2019-05-10 09:30:00</td>\n",
       "      <td>124.910004</td>\n",
       "      <td>127.930000</td>\n",
       "      <td>123.820000</td>\n",
       "      <td>127.129997</td>\n",
       "      <td>125.469955</td>\n",
       "      <td>30915100</td>\n",
       "    </tr>\n",
       "    <tr>\n",
       "      <td>3</td>\n",
       "      <td>2019-05-13 09:30:00</td>\n",
       "      <td>124.110001</td>\n",
       "      <td>125.550003</td>\n",
       "      <td>123.040001</td>\n",
       "      <td>123.349998</td>\n",
       "      <td>121.739311</td>\n",
       "      <td>33944900</td>\n",
       "    </tr>\n",
       "    <tr>\n",
       "      <td>4</td>\n",
       "      <td>2019-05-14 09:30:00</td>\n",
       "      <td>123.870003</td>\n",
       "      <td>125.879997</td>\n",
       "      <td>123.699997</td>\n",
       "      <td>124.730003</td>\n",
       "      <td>123.101303</td>\n",
       "      <td>25266300</td>\n",
       "    </tr>\n",
       "  </tbody>\n",
       "</table>\n",
       "</div>"
      ],
      "text/plain": [
       "                 Date        Open        High         Low       Close  \\\n",
       "0 2019-05-08 09:30:00  125.440002  126.370003  124.750000  125.510002   \n",
       "1 2019-05-09 09:30:00  124.290001  125.790001  123.570000  125.500000   \n",
       "2 2019-05-10 09:30:00  124.910004  127.930000  123.820000  127.129997   \n",
       "3 2019-05-13 09:30:00  124.110001  125.550003  123.040001  123.349998   \n",
       "4 2019-05-14 09:30:00  123.870003  125.879997  123.699997  124.730003   \n",
       "\n",
       "    Adj Close    Volume  \n",
       "0  123.871117  28419000  \n",
       "1  123.861244  27235800  \n",
       "2  125.469955  30915100  \n",
       "3  121.739311  33944900  \n",
       "4  123.101303  25266300  "
      ]
     },
     "execution_count": 4,
     "metadata": {},
     "output_type": "execute_result"
    }
   ],
   "source": [
    "stock = MSFT[['Date', 'Close']].copy()\n",
    "stock.columns = ['Date', 'Price']\n",
    "MSFT.Date = MSFT.Date - timedelta(hours = 6.5)\n",
    "MSFT.head()"
   ]
  },
  {
   "cell_type": "code",
   "execution_count": 5,
   "metadata": {},
   "outputs": [
    {
     "data": {
      "text/html": [
       "<div>\n",
       "<style scoped>\n",
       "    .dataframe tbody tr th:only-of-type {\n",
       "        vertical-align: middle;\n",
       "    }\n",
       "\n",
       "    .dataframe tbody tr th {\n",
       "        vertical-align: top;\n",
       "    }\n",
       "\n",
       "    .dataframe thead th {\n",
       "        text-align: right;\n",
       "    }\n",
       "</style>\n",
       "<table border=\"1\" class=\"dataframe\">\n",
       "  <thead>\n",
       "    <tr style=\"text-align: right;\">\n",
       "      <th></th>\n",
       "      <th>Date</th>\n",
       "      <th>Price</th>\n",
       "    </tr>\n",
       "  </thead>\n",
       "  <tbody>\n",
       "    <tr>\n",
       "      <td>0</td>\n",
       "      <td>2019-05-08 16:00:00</td>\n",
       "      <td>125.510002</td>\n",
       "    </tr>\n",
       "    <tr>\n",
       "      <td>1</td>\n",
       "      <td>2019-05-09 16:00:00</td>\n",
       "      <td>125.500000</td>\n",
       "    </tr>\n",
       "    <tr>\n",
       "      <td>2</td>\n",
       "      <td>2019-05-10 16:00:00</td>\n",
       "      <td>127.129997</td>\n",
       "    </tr>\n",
       "    <tr>\n",
       "      <td>3</td>\n",
       "      <td>2019-05-13 16:00:00</td>\n",
       "      <td>123.349998</td>\n",
       "    </tr>\n",
       "    <tr>\n",
       "      <td>4</td>\n",
       "      <td>2019-05-14 16:00:00</td>\n",
       "      <td>124.730003</td>\n",
       "    </tr>\n",
       "  </tbody>\n",
       "</table>\n",
       "</div>"
      ],
      "text/plain": [
       "                 Date       Price\n",
       "0 2019-05-08 16:00:00  125.510002\n",
       "1 2019-05-09 16:00:00  125.500000\n",
       "2 2019-05-10 16:00:00  127.129997\n",
       "3 2019-05-13 16:00:00  123.349998\n",
       "4 2019-05-14 16:00:00  124.730003"
      ]
     },
     "execution_count": 5,
     "metadata": {},
     "output_type": "execute_result"
    }
   ],
   "source": [
    "stock.head()"
   ]
  },
  {
   "cell_type": "code",
   "execution_count": 6,
   "metadata": {},
   "outputs": [
    {
     "data": {
      "text/html": [
       "<div>\n",
       "<style scoped>\n",
       "    .dataframe tbody tr th:only-of-type {\n",
       "        vertical-align: middle;\n",
       "    }\n",
       "\n",
       "    .dataframe tbody tr th {\n",
       "        vertical-align: top;\n",
       "    }\n",
       "\n",
       "    .dataframe thead th {\n",
       "        text-align: right;\n",
       "    }\n",
       "</style>\n",
       "<table border=\"1\" class=\"dataframe\">\n",
       "  <thead>\n",
       "    <tr style=\"text-align: right;\">\n",
       "      <th></th>\n",
       "      <th>Price</th>\n",
       "    </tr>\n",
       "    <tr>\n",
       "      <th>Date</th>\n",
       "      <th></th>\n",
       "    </tr>\n",
       "  </thead>\n",
       "  <tbody>\n",
       "    <tr>\n",
       "      <td>2019-05-08 09:30:00</td>\n",
       "      <td>125.440002</td>\n",
       "    </tr>\n",
       "    <tr>\n",
       "      <td>2019-05-08 16:00:00</td>\n",
       "      <td>125.510002</td>\n",
       "    </tr>\n",
       "    <tr>\n",
       "      <td>2019-05-09 09:30:00</td>\n",
       "      <td>124.290001</td>\n",
       "    </tr>\n",
       "    <tr>\n",
       "      <td>2019-05-09 16:00:00</td>\n",
       "      <td>125.500000</td>\n",
       "    </tr>\n",
       "    <tr>\n",
       "      <td>2019-05-10 09:30:00</td>\n",
       "      <td>124.910004</td>\n",
       "    </tr>\n",
       "  </tbody>\n",
       "</table>\n",
       "</div>"
      ],
      "text/plain": [
       "                          Price\n",
       "Date                           \n",
       "2019-05-08 09:30:00  125.440002\n",
       "2019-05-08 16:00:00  125.510002\n",
       "2019-05-09 09:30:00  124.290001\n",
       "2019-05-09 16:00:00  125.500000\n",
       "2019-05-10 09:30:00  124.910004"
      ]
     },
     "execution_count": 6,
     "metadata": {},
     "output_type": "execute_result"
    }
   ],
   "source": [
    "MSFT.columns = ['Date', 'Price', 'High', 'Low', 'Close', 'Adj Close', 'Volume']\n",
    "stock = pd.concat([stock, MSFT[['Date', 'Price']]], axis = 0)\n",
    "stock = stock.sort_values('Date')\n",
    "stock.set_index(stock.Date, inplace = True)\n",
    "stock = stock.drop('Date', 1)\n",
    "stock.head()"
   ]
  },
  {
   "cell_type": "markdown",
   "metadata": {},
   "source": [
    "## Creating a Function to Test for Stationarity"
   ]
  },
  {
   "cell_type": "code",
   "execution_count": 7,
   "metadata": {},
   "outputs": [],
   "source": [
    "def test_stationarity(timeseries):\n",
    "    rolmean = pd.Series(timeseries).rolling(12).mean()\n",
    "    rolstd = pd.Series(timeseries).rolling(12).mean()\n",
    "    fig = plt.figure(figsize = (12, 8))\n",
    "    orig = plt.plot(timeseries, color = 'blue', label = 'Original')\n",
    "    mean = plt.plot(rolmean, color = 'red', label = 'Rolling Average')\n",
    "    std = plt.plot(rolstd, color = 'black', label = 'Rolling Standard Deviation')\n",
    "    plt.legend(loc = 'best')\n",
    "    plt.title('Comparison of Stock Price, Rolling Average, and Rolling Standard Deviation')\n",
    "    plt.show()\n",
    "    print('Results of Augmented Dickey-Fuller Test: ')\n",
    "    dftest = adfuller(timeseries, autolag = 'AIC')\n",
    "    dfoutput = pd.Series(dftest[0: 4], index = ['Test Statistic', 'P-Value', 'No. Lags Used', 'No. Observations Used'])\n",
    "    for key, value in list(dftest[4].items()):\n",
    "        dfoutput['Critical Value (%s)' %key] = value\n",
    "    print(dfoutput)"
   ]
  },
  {
   "cell_type": "markdown",
   "metadata": {},
   "source": [
    "Now let us examine the stock price's Autocorrelation and Partial Autocorrelation plots"
   ]
  },
  {
   "cell_type": "code",
   "execution_count": 8,
   "metadata": {},
   "outputs": [
    {
     "data": {
      "image/png": "[encoded data removed]",
      "text/plain": [
       "<Figure size 864x576 with 2 Axes>"
      ]
     },
     "metadata": {
      "needs_background": "light"
     },
     "output_type": "display_data"
    }
   ],
   "source": [
    "fig = plt.figure(figsize = (12, 8))\n",
    "ax1 = fig.add_subplot(211)\n",
    "fig = sm.graphics.tsa.plot_acf(stock.Price, lags = 200, ax = ax1)\n",
    "ax2 = fig.add_subplot(212)\n",
    "fig = sm.graphics.tsa.plot_pacf(stock.Price, lags = 200, ax = ax2)\n",
    "plt.show()"
   ]
  },
  {
   "cell_type": "markdown",
   "metadata": {},
   "source": [
    "We can see that the Autocorrelation of the Microsoft stock prices is weak, perhaps suggesting that the autocorrelation is not statistically significant within the 95% confidence interval. Observing the Partial Autocorrelation graph, however, while we also do not see clear significant indication of partial autocorrelation within the 95% confidence interval, the results seem more promising in comparison to the Autocorrelation graph and the existence of significant partial autocorrelation may exist. We can also observe the graphs for different lag values."
   ]
  },
  {
   "cell_type": "markdown",
   "metadata": {},
   "source": [
    "## Building the SARIMAX Model"
   ]
  },
  {
   "cell_type": "code",
   "execution_count": 9,
   "metadata": {},
   "outputs": [
    {
     "data": {
      "text/html": [
       "<table class=\"simpletable\">\n",
       "<caption>SARIMAX Results</caption>\n",
       "<tr>\n",
       "  <th>Dep. Variable:</th>           <td>y</td>        <th>  No. Observations:  </th>    <td>508</td>   \n",
       "</tr>\n",
       "<tr>\n",
       "  <th>Model:</th>           <td>SARIMAX(3, 1, 0)</td> <th>  Log Likelihood     </th> <td>-1159.824</td>\n",
       "</tr>\n",
       "<tr>\n",
       "  <th>Date:</th>            <td>Sat, 09 May 2020</td> <th>  AIC                </th> <td>2329.648</td> \n",
       "</tr>\n",
       "<tr>\n",
       "  <th>Time:</th>                <td>14:24:50</td>     <th>  BIC                </th> <td>2350.791</td> \n",
       "</tr>\n",
       "<tr>\n",
       "  <th>Sample:</th>                  <td>0</td>        <th>  HQIC               </th> <td>2337.940</td> \n",
       "</tr>\n",
       "<tr>\n",
       "  <th></th>                      <td> - 508</td>      <th>                     </th>     <td> </td>    \n",
       "</tr>\n",
       "<tr>\n",
       "  <th>Covariance Type:</th>        <td>opg</td>       <th>                     </th>     <td> </td>    \n",
       "</tr>\n",
       "</table>\n",
       "<table class=\"simpletable\">\n",
       "<tr>\n",
       "      <td></td>         <th>coef</th>     <th>std err</th>      <th>z</th>      <th>P>|z|</th>  <th>[0.025</th>    <th>0.975]</th>  \n",
       "</tr>\n",
       "<tr>\n",
       "  <th>intercept</th> <td>    0.1620</td> <td>    0.120</td> <td>    1.350</td> <td> 0.177</td> <td>   -0.073</td> <td>    0.397</td>\n",
       "</tr>\n",
       "<tr>\n",
       "  <th>ar.L1</th>     <td>   -0.0188</td> <td>    0.028</td> <td>   -0.682</td> <td> 0.495</td> <td>   -0.073</td> <td>    0.035</td>\n",
       "</tr>\n",
       "<tr>\n",
       "  <th>ar.L2</th>     <td>   -0.2450</td> <td>    0.029</td> <td>   -8.518</td> <td> 0.000</td> <td>   -0.301</td> <td>   -0.189</td>\n",
       "</tr>\n",
       "<tr>\n",
       "  <th>ar.L3</th>     <td>   -0.1238</td> <td>    0.029</td> <td>   -4.309</td> <td> 0.000</td> <td>   -0.180</td> <td>   -0.068</td>\n",
       "</tr>\n",
       "<tr>\n",
       "  <th>sigma2</th>    <td>    5.6805</td> <td>    0.171</td> <td>   33.180</td> <td> 0.000</td> <td>    5.345</td> <td>    6.016</td>\n",
       "</tr>\n",
       "</table>\n",
       "<table class=\"simpletable\">\n",
       "<tr>\n",
       "  <th>Ljung-Box (Q):</th>          <td>95.99</td> <th>  Jarque-Bera (JB):  </th> <td>2115.04</td>\n",
       "</tr>\n",
       "<tr>\n",
       "  <th>Prob(Q):</th>                <td>0.00</td>  <th>  Prob(JB):          </th>  <td>0.00</td>  \n",
       "</tr>\n",
       "<tr>\n",
       "  <th>Heteroskedasticity (H):</th> <td>8.48</td>  <th>  Skew:              </th>  <td>-1.36</td> \n",
       "</tr>\n",
       "<tr>\n",
       "  <th>Prob(H) (two-sided):</th>    <td>0.00</td>  <th>  Kurtosis:          </th>  <td>12.63</td> \n",
       "</tr>\n",
       "</table><br/><br/>Warnings:<br/>[1] Covariance matrix calculated using the outer product of gradients (complex-step)."
      ],
      "text/plain": [
       "<class 'statsmodels.iolib.summary.Summary'>\n",
       "\"\"\"\n",
       "                               SARIMAX Results                                \n",
       "==============================================================================\n",
       "Dep. Variable:                      y   No. Observations:                  508\n",
       "Model:               SARIMAX(3, 1, 0)   Log Likelihood               -1159.824\n",
       "Date:                Sat, 09 May 2020   AIC                           2329.648\n",
       "Time:                        14:24:50   BIC                           2350.791\n",
       "Sample:                             0   HQIC                          2337.940\n",
       "                                - 508                                         \n",
       "Covariance Type:                  opg                                         \n",
       "==============================================================================\n",
       "                 coef    std err          z      P>|z|      [0.025      0.975]\n",
       "------------------------------------------------------------------------------\n",
       "intercept      0.1620      0.120      1.350      0.177      -0.073       0.397\n",
       "ar.L1         -0.0188      0.028     -0.682      0.495      -0.073       0.035\n",
       "ar.L2         -0.2450      0.029     -8.518      0.000      -0.301      -0.189\n",
       "ar.L3         -0.1238      0.029     -4.309      0.000      -0.180      -0.068\n",
       "sigma2         5.6805      0.171     33.180      0.000       5.345       6.016\n",
       "===================================================================================\n",
       "Ljung-Box (Q):                       95.99   Jarque-Bera (JB):              2115.04\n",
       "Prob(Q):                              0.00   Prob(JB):                         0.00\n",
       "Heteroskedasticity (H):               8.48   Skew:                            -1.36\n",
       "Prob(H) (two-sided):                  0.00   Kurtosis:                        12.63\n",
       "===================================================================================\n",
       "\n",
       "Warnings:\n",
       "[1] Covariance matrix calculated using the outer product of gradients (complex-step).\n",
       "\"\"\""
      ]
     },
     "execution_count": 9,
     "metadata": {},
     "output_type": "execute_result"
    }
   ],
   "source": [
    "optimal = auto_arima(stock.Price, start_p = 0, start_q = 0, test = 'adf', seasonal = True)\n",
    "optimal.summary()"
   ]
  },
  {
   "cell_type": "code",
   "execution_count": 10,
   "metadata": {},
   "outputs": [
    {
     "name": "stderr",
     "output_type": "stream",
     "text": [
      "/Users/maxzhang/opt/anaconda3/lib/python3.7/site-packages/statsmodels/tsa/base/tsa_model.py:218: ValueWarning: A date index has been provided, but it has no associated frequency information and so will be ignored when e.g. forecasting.\n",
      "  ' ignored when e.g. forecasting.', ValueWarning)\n",
      "/Users/maxzhang/opt/anaconda3/lib/python3.7/site-packages/statsmodels/tsa/base/tsa_model.py:218: ValueWarning: A date index has been provided, but it has no associated frequency information and so will be ignored when e.g. forecasting.\n",
      "  ' ignored when e.g. forecasting.', ValueWarning)\n"
     ]
    },
    {
     "data": {
      "text/html": [
       "<table class=\"simpletable\">\n",
       "<caption>SARIMAX Results</caption>\n",
       "<tr>\n",
       "  <th>Dep. Variable:</th>         <td>Price</td>      <th>  No. Observations:  </th>    <td>508</td>   \n",
       "</tr>\n",
       "<tr>\n",
       "  <th>Model:</th>           <td>SARIMAX(3, 1, 0)</td> <th>  Log Likelihood     </th> <td>-1160.981</td>\n",
       "</tr>\n",
       "<tr>\n",
       "  <th>Date:</th>            <td>Sat, 09 May 2020</td> <th>  AIC                </th> <td>2329.962</td> \n",
       "</tr>\n",
       "<tr>\n",
       "  <th>Time:</th>                <td>14:24:50</td>     <th>  BIC                </th> <td>2346.876</td> \n",
       "</tr>\n",
       "<tr>\n",
       "  <th>Sample:</th>                  <td>0</td>        <th>  HQIC               </th> <td>2336.595</td> \n",
       "</tr>\n",
       "<tr>\n",
       "  <th></th>                      <td> - 508</td>      <th>                     </th>     <td> </td>    \n",
       "</tr>\n",
       "<tr>\n",
       "  <th>Covariance Type:</th>        <td>opg</td>       <th>                     </th>     <td> </td>    \n",
       "</tr>\n",
       "</table>\n",
       "<table class=\"simpletable\">\n",
       "<tr>\n",
       "     <td></td>       <th>coef</th>     <th>std err</th>      <th>z</th>      <th>P>|z|</th>  <th>[0.025</th>    <th>0.975]</th>  \n",
       "</tr>\n",
       "<tr>\n",
       "  <th>ar.L1</th>  <td>   -0.0147</td> <td>    0.028</td> <td>   -0.535</td> <td> 0.593</td> <td>   -0.069</td> <td>    0.039</td>\n",
       "</tr>\n",
       "<tr>\n",
       "  <th>ar.L2</th>  <td>   -0.2420</td> <td>    0.029</td> <td>   -8.474</td> <td> 0.000</td> <td>   -0.298</td> <td>   -0.186</td>\n",
       "</tr>\n",
       "<tr>\n",
       "  <th>ar.L3</th>  <td>   -0.1198</td> <td>    0.028</td> <td>   -4.330</td> <td> 0.000</td> <td>   -0.174</td> <td>   -0.066</td>\n",
       "</tr>\n",
       "<tr>\n",
       "  <th>sigma2</th> <td>    5.7065</td> <td>    0.165</td> <td>   34.559</td> <td> 0.000</td> <td>    5.383</td> <td>    6.030</td>\n",
       "</tr>\n",
       "</table>\n",
       "<table class=\"simpletable\">\n",
       "<tr>\n",
       "  <th>Ljung-Box (Q):</th>          <td>96.99</td> <th>  Jarque-Bera (JB):  </th> <td>2129.39</td>\n",
       "</tr>\n",
       "<tr>\n",
       "  <th>Prob(Q):</th>                <td>0.00</td>  <th>  Prob(JB):          </th>  <td>0.00</td>  \n",
       "</tr>\n",
       "<tr>\n",
       "  <th>Heteroskedasticity (H):</th> <td>8.45</td>  <th>  Skew:              </th>  <td>-1.35</td> \n",
       "</tr>\n",
       "<tr>\n",
       "  <th>Prob(H) (two-sided):</th>    <td>0.00</td>  <th>  Kurtosis:          </th>  <td>12.67</td> \n",
       "</tr>\n",
       "</table><br/><br/>Warnings:<br/>[1] Covariance matrix calculated using the outer product of gradients (complex-step)."
      ],
      "text/plain": [
       "<class 'statsmodels.iolib.summary.Summary'>\n",
       "\"\"\"\n",
       "                               SARIMAX Results                                \n",
       "==============================================================================\n",
       "Dep. Variable:                  Price   No. Observations:                  508\n",
       "Model:               SARIMAX(3, 1, 0)   Log Likelihood               -1160.981\n",
       "Date:                Sat, 09 May 2020   AIC                           2329.962\n",
       "Time:                        14:24:50   BIC                           2346.876\n",
       "Sample:                             0   HQIC                          2336.595\n",
       "                                - 508                                         \n",
       "Covariance Type:                  opg                                         \n",
       "==============================================================================\n",
       "                 coef    std err          z      P>|z|      [0.025      0.975]\n",
       "------------------------------------------------------------------------------\n",
       "ar.L1         -0.0147      0.028     -0.535      0.593      -0.069       0.039\n",
       "ar.L2         -0.2420      0.029     -8.474      0.000      -0.298      -0.186\n",
       "ar.L3         -0.1198      0.028     -4.330      0.000      -0.174      -0.066\n",
       "sigma2         5.7065      0.165     34.559      0.000       5.383       6.030\n",
       "===================================================================================\n",
       "Ljung-Box (Q):                       96.99   Jarque-Bera (JB):              2129.39\n",
       "Prob(Q):                              0.00   Prob(JB):                         0.00\n",
       "Heteroskedasticity (H):               8.45   Skew:                            -1.35\n",
       "Prob(H) (two-sided):                  0.00   Kurtosis:                        12.67\n",
       "===================================================================================\n",
       "\n",
       "Warnings:\n",
       "[1] Covariance matrix calculated using the outer product of gradients (complex-step).\n",
       "\"\"\""
      ]
     },
     "execution_count": 10,
     "metadata": {},
     "output_type": "execute_result"
    }
   ],
   "source": [
    "model = sm.tsa.statespace.SARIMAX(stock.Price, trend = 'n', order = (3, 1, 0))\n",
    "results = model.fit()\n",
    "results.summary()"
   ]
  },
  {
   "cell_type": "code",
   "execution_count": 11,
   "metadata": {},
   "outputs": [
    {
     "data": {
      "image/png": "[encoded data removed]",
      "text/plain": [
       "<Figure size 864x576 with 1 Axes>"
      ]
     },
     "metadata": {
      "needs_background": "light"
     },
     "output_type": "display_data"
    }
   ],
   "source": [
    "stock['Forecast'] = results.predict(dynamic = False)\n",
    "stock[['Price', 'Forecast']].plot(figsize = (12, 8))\n",
    "plt.show()"
   ]
  },
  {
   "cell_type": "code",
   "execution_count": 12,
   "metadata": {},
   "outputs": [
    {
     "data": {
      "image/png": "[encoded data removed]",
      "text/plain": [
       "<Figure size 864x576 with 1 Axes>"
      ]
     },
     "metadata": {
      "needs_background": "light"
     },
     "output_type": "display_data"
    }
   ],
   "source": [
    "stock[['Price', 'Forecast']].iloc[300:].plot(figsize = (12, 8))\n",
    "plt.show()"
   ]
  },
  {
   "cell_type": "code",
   "execution_count": 13,
   "metadata": {},
   "outputs": [
    {
     "data": {
      "image/png": "[encoded data removed]",
      "text/plain": [
       "<Figure size 864x576 with 1 Axes>"
      ]
     },
     "metadata": {
      "needs_background": "light"
     },
     "output_type": "display_data"
    }
   ],
   "source": [
    "stock['Forecast'] = [np.NaN for i in range(300)] + list(results.predict(start = 300, end = 507, dynamic = False))\n",
    "stock[['Price', 'Forecast']].iloc[400:].plot(figsize = (12, 8))\n",
    "plt.show()"
   ]
  },
  {
   "cell_type": "code",
   "execution_count": 14,
   "metadata": {},
   "outputs": [],
   "source": [
    "def calculate_profit(timeseries, predictions, stop):\n",
    "    capital = 0\n",
    "    transactions = 0\n",
    "    own = False\n",
    "    last_buy = 0\n",
    "    current_price = 0\n",
    "    for num, i in enumerate(timeseries.iloc[:stop].iterrows()):\n",
    "        if i[1][predictions] == 1 and own == False:\n",
    "            capital -= i[1]['Price']\n",
    "            own = True\n",
    "            transactions += 1\n",
    "            last_buy = i[1]['Price']\n",
    "        elif i[1][predictions] == 0 and own == True:\n",
    "            capital += i[1]['Price']\n",
    "            own = False\n",
    "            transactions += 1\n",
    "        else:\n",
    "            pass\n",
    "        current_price = i[1]['Price']\n",
    "    print('Currently Owning?: ', own)\n",
    "    print('Last Buying Price: $', last_buy)\n",
    "    print('Current Price: $', current_price)\n",
    "    print('Current Cash: $', capital)\n",
    "    if own == True:\n",
    "        print('Profit: $', current_price + capital)\n",
    "    else:\n",
    "        print('Profit: $', capital)\n",
    "    print('Number of Transactins:', transactions)\n",
    "    print('Cost of transactions: $', transactions * 5)"
   ]
  },
  {
   "cell_type": "markdown",
   "metadata": {},
   "source": [
    "The above function simulates trading using our SARIMAX predictions, and we assume a $5 transaction fee."
   ]
  },
  {
   "cell_type": "code",
   "execution_count": 15,
   "metadata": {},
   "outputs": [
    {
     "data": {
      "text/html": [
       "<div>\n",
       "<style scoped>\n",
       "    .dataframe tbody tr th:only-of-type {\n",
       "        vertical-align: middle;\n",
       "    }\n",
       "\n",
       "    .dataframe tbody tr th {\n",
       "        vertical-align: top;\n",
       "    }\n",
       "\n",
       "    .dataframe thead th {\n",
       "        text-align: right;\n",
       "    }\n",
       "</style>\n",
       "<table border=\"1\" class=\"dataframe\">\n",
       "  <thead>\n",
       "    <tr style=\"text-align: right;\">\n",
       "      <th></th>\n",
       "      <th>Price</th>\n",
       "      <th>Forecast</th>\n",
       "      <th>Target</th>\n",
       "    </tr>\n",
       "    <tr>\n",
       "      <th>Date</th>\n",
       "      <th></th>\n",
       "      <th></th>\n",
       "      <th></th>\n",
       "    </tr>\n",
       "  </thead>\n",
       "  <tbody>\n",
       "    <tr>\n",
       "      <td>2020-05-06 16:00:00</td>\n",
       "      <td>182.539993</td>\n",
       "      <td>181.813375</td>\n",
       "      <td>184.169998</td>\n",
       "    </tr>\n",
       "    <tr>\n",
       "      <td>2020-05-07 09:30:00</td>\n",
       "      <td>184.169998</td>\n",
       "      <td>182.196946</td>\n",
       "      <td>183.600006</td>\n",
       "    </tr>\n",
       "    <tr>\n",
       "      <td>2020-05-07 16:00:00</td>\n",
       "      <td>183.600006</td>\n",
       "      <td>183.876469</td>\n",
       "      <td>184.979996</td>\n",
       "    </tr>\n",
       "    <tr>\n",
       "      <td>2020-05-08 09:30:00</td>\n",
       "      <td>184.979996</td>\n",
       "      <td>183.158768</td>\n",
       "      <td>184.470001</td>\n",
       "    </tr>\n",
       "    <tr>\n",
       "      <td>2020-05-08 16:00:00</td>\n",
       "      <td>184.470001</td>\n",
       "      <td>184.902302</td>\n",
       "      <td>NaN</td>\n",
       "    </tr>\n",
       "  </tbody>\n",
       "</table>\n",
       "</div>"
      ],
      "text/plain": [
       "                          Price    Forecast      Target\n",
       "Date                                                   \n",
       "2020-05-06 16:00:00  182.539993  181.813375  184.169998\n",
       "2020-05-07 09:30:00  184.169998  182.196946  183.600006\n",
       "2020-05-07 16:00:00  183.600006  183.876469  184.979996\n",
       "2020-05-08 09:30:00  184.979996  183.158768  184.470001\n",
       "2020-05-08 16:00:00  184.470001  184.902302         NaN"
      ]
     },
     "execution_count": 15,
     "metadata": {},
     "output_type": "execute_result"
    }
   ],
   "source": [
    "stock['Target'] = stock.Price.shift(-1)\n",
    "stock.tail()"
   ]
  },
  {
   "cell_type": "code",
   "execution_count": 16,
   "metadata": {},
   "outputs": [],
   "source": [
    "stock['Forecast'] = results.predict(dynamic = False)\n",
    "stock['Predicted Growth'] = stock[['Forecast', 'Price']].apply(lambda x: 1 if x[0] - x[1] >= 0 else 0, axis = 1)\n",
    "stock['Actual Growth'] = stock[['Target', 'Price']].apply(lambda x: 1 if x[0] - x[1] >= 0 else 0, axis = 1)"
   ]
  },
  {
   "cell_type": "code",
   "execution_count": 17,
   "metadata": {},
   "outputs": [
    {
     "name": "stdout",
     "output_type": "stream",
     "text": [
      "Currently Owning?:  False\n",
      "Last Buying Price: $ 183.600006\n",
      "Current Price: $ 184.979996\n",
      "Current Cash: $ 11.70993299999995\n",
      "Profit: $ 11.70993299999995\n",
      "Number of Transactins: 100\n",
      "Cost of transactions: $ 500\n"
     ]
    }
   ],
   "source": [
    "calculate_profit(stock.iloc[300:], 'Predicted Growth', -1)"
   ]
  },
  {
   "cell_type": "code",
   "execution_count": 18,
   "metadata": {},
   "outputs": [
    {
     "name": "stdout",
     "output_type": "stream",
     "text": [
      "Currently Owning?:  False\n",
      "Last Buying Price: $ 183.600006\n",
      "Current Price: $ 184.979996\n",
      "Current Cash: $ 270.4299149999998\n",
      "Profit: $ 270.4299149999998\n",
      "Number of Transactins: 98\n",
      "Cost of transactions: $ 490\n"
     ]
    }
   ],
   "source": [
    "calculate_profit(stock.iloc[300:], 'Actual Growth', -1)"
   ]
  },
  {
   "cell_type": "code",
   "execution_count": 19,
   "metadata": {},
   "outputs": [
    {
     "data": {
      "text/html": [
       "<div>\n",
       "<style scoped>\n",
       "    .dataframe tbody tr th:only-of-type {\n",
       "        vertical-align: middle;\n",
       "    }\n",
       "\n",
       "    .dataframe tbody tr th {\n",
       "        vertical-align: top;\n",
       "    }\n",
       "\n",
       "    .dataframe thead th {\n",
       "        text-align: right;\n",
       "    }\n",
       "</style>\n",
       "<table border=\"1\" class=\"dataframe\">\n",
       "  <thead>\n",
       "    <tr style=\"text-align: right;\">\n",
       "      <th></th>\n",
       "      <th>Price</th>\n",
       "      <th>Forecast</th>\n",
       "      <th>Target</th>\n",
       "      <th>Predicted Growth</th>\n",
       "      <th>Actual Growth</th>\n",
       "    </tr>\n",
       "    <tr>\n",
       "      <th>Date</th>\n",
       "      <th></th>\n",
       "      <th></th>\n",
       "      <th></th>\n",
       "      <th></th>\n",
       "      <th></th>\n",
       "    </tr>\n",
       "  </thead>\n",
       "  <tbody>\n",
       "    <tr>\n",
       "      <td>2019-05-08 09:30:00</td>\n",
       "      <td>125.440002</td>\n",
       "      <td>0.000000</td>\n",
       "      <td>125.510002</td>\n",
       "      <td>0</td>\n",
       "      <td>1</td>\n",
       "    </tr>\n",
       "    <tr>\n",
       "      <td>2019-05-08 16:00:00</td>\n",
       "      <td>125.510002</td>\n",
       "      <td>125.440011</td>\n",
       "      <td>124.290001</td>\n",
       "      <td>0</td>\n",
       "      <td>0</td>\n",
       "    </tr>\n",
       "    <tr>\n",
       "      <td>2019-05-09 09:30:00</td>\n",
       "      <td>124.290001</td>\n",
       "      <td>125.510628</td>\n",
       "      <td>125.500000</td>\n",
       "      <td>1</td>\n",
       "      <td>1</td>\n",
       "    </tr>\n",
       "    <tr>\n",
       "      <td>2019-05-09 16:00:00</td>\n",
       "      <td>125.500000</td>\n",
       "      <td>124.255199</td>\n",
       "      <td>124.910004</td>\n",
       "      <td>0</td>\n",
       "      <td>0</td>\n",
       "    </tr>\n",
       "    <tr>\n",
       "      <td>2019-05-10 09:30:00</td>\n",
       "      <td>124.910004</td>\n",
       "      <td>125.769062</td>\n",
       "      <td>127.129997</td>\n",
       "      <td>1</td>\n",
       "      <td>1</td>\n",
       "    </tr>\n",
       "  </tbody>\n",
       "</table>\n",
       "</div>"
      ],
      "text/plain": [
       "                          Price    Forecast      Target  Predicted Growth  \\\n",
       "Date                                                                        \n",
       "2019-05-08 09:30:00  125.440002    0.000000  125.510002                 0   \n",
       "2019-05-08 16:00:00  125.510002  125.440011  124.290001                 0   \n",
       "2019-05-09 09:30:00  124.290001  125.510628  125.500000                 1   \n",
       "2019-05-09 16:00:00  125.500000  124.255199  124.910004                 0   \n",
       "2019-05-10 09:30:00  124.910004  125.769062  127.129997                 1   \n",
       "\n",
       "                     Actual Growth  \n",
       "Date                                \n",
       "2019-05-08 09:30:00              1  \n",
       "2019-05-08 16:00:00              0  \n",
       "2019-05-09 09:30:00              1  \n",
       "2019-05-09 16:00:00              0  \n",
       "2019-05-10 09:30:00              1  "
      ]
     },
     "execution_count": 19,
     "metadata": {},
     "output_type": "execute_result"
    }
   ],
   "source": [
    "stock.head()"
   ]
  },
  {
   "cell_type": "markdown",
   "metadata": {},
   "source": [
    "## Building the ARMA Model"
   ]
  },
  {
   "cell_type": "code",
   "execution_count": 20,
   "metadata": {},
   "outputs": [
    {
     "name": "stderr",
     "output_type": "stream",
     "text": [
      "/Users/maxzhang/opt/anaconda3/lib/python3.7/site-packages/statsmodels/tsa/base/tsa_model.py:218: ValueWarning: A date index has been provided, but it has no associated frequency information and so will be ignored when e.g. forecasting.\n",
      "  ' ignored when e.g. forecasting.', ValueWarning)\n"
     ]
    },
    {
     "data": {
      "text/html": [
       "<table class=\"simpletable\">\n",
       "<caption>ARMA Model Results</caption>\n",
       "<tr>\n",
       "  <th>Dep. Variable:</th>       <td>Price</td>      <th>  No. Observations:  </th>    <td>508</td>   \n",
       "</tr>\n",
       "<tr>\n",
       "  <th>Model:</th>            <td>ARMA(3, 1)</td>    <th>  Log Likelihood     </th> <td>-1166.438</td>\n",
       "</tr>\n",
       "<tr>\n",
       "  <th>Method:</th>             <td>css-mle</td>     <th>  S.D. of innovations</th>   <td>2.393</td>  \n",
       "</tr>\n",
       "<tr>\n",
       "  <th>Date:</th>          <td>Sat, 09 May 2020</td> <th>  AIC                </th> <td>2344.877</td> \n",
       "</tr>\n",
       "<tr>\n",
       "  <th>Time:</th>              <td>14:24:51</td>     <th>  BIC                </th> <td>2370.260</td> \n",
       "</tr>\n",
       "<tr>\n",
       "  <th>Sample:</th>                <td>0</td>        <th>  HQIC               </th> <td>2354.830</td> \n",
       "</tr>\n",
       "<tr>\n",
       "  <th></th>                       <td> </td>        <th>                     </th>     <td> </td>    \n",
       "</tr>\n",
       "</table>\n",
       "<table class=\"simpletable\">\n",
       "<tr>\n",
       "       <td></td>          <th>coef</th>     <th>std err</th>      <th>z</th>      <th>P>|z|</th>  <th>[0.025</th>    <th>0.975]</th>  \n",
       "</tr>\n",
       "<tr>\n",
       "  <th>const</th>       <td>  152.2060</td> <td>   17.264</td> <td>    8.816</td> <td> 0.000</td> <td>  118.369</td> <td>  186.043</td>\n",
       "</tr>\n",
       "<tr>\n",
       "  <th>ar.L1.Price</th> <td>    1.2936</td> <td>    0.121</td> <td>   10.647</td> <td> 0.000</td> <td>    1.055</td> <td>    1.532</td>\n",
       "</tr>\n",
       "<tr>\n",
       "  <th>ar.L2.Price</th> <td>   -0.5486</td> <td>    0.125</td> <td>   -4.383</td> <td> 0.000</td> <td>   -0.794</td> <td>   -0.303</td>\n",
       "</tr>\n",
       "<tr>\n",
       "  <th>ar.L3.Price</th> <td>    0.2522</td> <td>    0.044</td> <td>    5.784</td> <td> 0.000</td> <td>    0.167</td> <td>    0.338</td>\n",
       "</tr>\n",
       "<tr>\n",
       "  <th>ma.L1.Price</th> <td>   -0.3010</td> <td>    0.122</td> <td>   -2.461</td> <td> 0.014</td> <td>   -0.541</td> <td>   -0.061</td>\n",
       "</tr>\n",
       "</table>\n",
       "<table class=\"simpletable\">\n",
       "<caption>Roots</caption>\n",
       "<tr>\n",
       "    <td></td>   <th>            Real</th>  <th>         Imaginary</th> <th>         Modulus</th>  <th>        Frequency</th>\n",
       "</tr>\n",
       "<tr>\n",
       "  <th>AR.1</th> <td>           1.0030</td> <td>          -0.0000j</td> <td>           1.0030</td> <td>          -0.0000</td>\n",
       "</tr>\n",
       "<tr>\n",
       "  <th>AR.2</th> <td>           0.5862</td> <td>          -1.9001j</td> <td>           1.9884</td> <td>          -0.2024</td>\n",
       "</tr>\n",
       "<tr>\n",
       "  <th>AR.3</th> <td>           0.5862</td> <td>          +1.9001j</td> <td>           1.9884</td> <td>           0.2024</td>\n",
       "</tr>\n",
       "<tr>\n",
       "  <th>MA.1</th> <td>           3.3222</td> <td>          +0.0000j</td> <td>           3.3222</td> <td>           0.0000</td>\n",
       "</tr>\n",
       "</table>"
      ],
      "text/plain": [
       "<class 'statsmodels.iolib.summary.Summary'>\n",
       "\"\"\"\n",
       "                              ARMA Model Results                              \n",
       "==============================================================================\n",
       "Dep. Variable:                  Price   No. Observations:                  508\n",
       "Model:                     ARMA(3, 1)   Log Likelihood               -1166.438\n",
       "Method:                       css-mle   S.D. of innovations              2.393\n",
       "Date:                Sat, 09 May 2020   AIC                           2344.877\n",
       "Time:                        14:24:51   BIC                           2370.260\n",
       "Sample:                             0   HQIC                          2354.830\n",
       "                                                                              \n",
       "===============================================================================\n",
       "                  coef    std err          z      P>|z|      [0.025      0.975]\n",
       "-------------------------------------------------------------------------------\n",
       "const         152.2060     17.264      8.816      0.000     118.369     186.043\n",
       "ar.L1.Price     1.2936      0.121     10.647      0.000       1.055       1.532\n",
       "ar.L2.Price    -0.5486      0.125     -4.383      0.000      -0.794      -0.303\n",
       "ar.L3.Price     0.2522      0.044      5.784      0.000       0.167       0.338\n",
       "ma.L1.Price    -0.3010      0.122     -2.461      0.014      -0.541      -0.061\n",
       "                                    Roots                                    \n",
       "=============================================================================\n",
       "                  Real          Imaginary           Modulus         Frequency\n",
       "-----------------------------------------------------------------------------\n",
       "AR.1            1.0030           -0.0000j            1.0030           -0.0000\n",
       "AR.2            0.5862           -1.9001j            1.9884           -0.2024\n",
       "AR.3            0.5862           +1.9001j            1.9884            0.2024\n",
       "MA.1            3.3222           +0.0000j            3.3222            0.0000\n",
       "-----------------------------------------------------------------------------\n",
       "\"\"\""
      ]
     },
     "execution_count": 20,
     "metadata": {},
     "output_type": "execute_result"
    }
   ],
   "source": [
    "model = ARMA(stock.Price, (3, 1)).fit()\n",
    "model.summary()"
   ]
  },
  {
   "cell_type": "code",
   "execution_count": 21,
   "metadata": {},
   "outputs": [
    {
     "data": {
      "text/html": [
       "<div>\n",
       "<style scoped>\n",
       "    .dataframe tbody tr th:only-of-type {\n",
       "        vertical-align: middle;\n",
       "    }\n",
       "\n",
       "    .dataframe tbody tr th {\n",
       "        vertical-align: top;\n",
       "    }\n",
       "\n",
       "    .dataframe thead th {\n",
       "        text-align: right;\n",
       "    }\n",
       "</style>\n",
       "<table border=\"1\" class=\"dataframe\">\n",
       "  <thead>\n",
       "    <tr style=\"text-align: right;\">\n",
       "      <th></th>\n",
       "      <th>Price</th>\n",
       "      <th>Forecast</th>\n",
       "      <th>Target</th>\n",
       "      <th>Predicted Growth</th>\n",
       "      <th>Actual Growth</th>\n",
       "    </tr>\n",
       "    <tr>\n",
       "      <th>Date</th>\n",
       "      <th></th>\n",
       "      <th></th>\n",
       "      <th></th>\n",
       "      <th></th>\n",
       "      <th></th>\n",
       "    </tr>\n",
       "  </thead>\n",
       "  <tbody>\n",
       "    <tr>\n",
       "      <td>2019-05-08 09:30:00</td>\n",
       "      <td>125.440002</td>\n",
       "      <td>152.206031</td>\n",
       "      <td>125.510002</td>\n",
       "      <td>0</td>\n",
       "      <td>1</td>\n",
       "    </tr>\n",
       "    <tr>\n",
       "      <td>2019-05-08 16:00:00</td>\n",
       "      <td>125.510002</td>\n",
       "      <td>125.598477</td>\n",
       "      <td>124.290001</td>\n",
       "      <td>0</td>\n",
       "      <td>0</td>\n",
       "    </tr>\n",
       "    <tr>\n",
       "      <td>2019-05-09 09:30:00</td>\n",
       "      <td>124.290001</td>\n",
       "      <td>125.671496</td>\n",
       "      <td>125.500000</td>\n",
       "      <td>1</td>\n",
       "      <td>1</td>\n",
       "    </tr>\n",
       "    <tr>\n",
       "      <td>2019-05-09 16:00:00</td>\n",
       "      <td>125.500000</td>\n",
       "      <td>124.377718</td>\n",
       "      <td>124.910004</td>\n",
       "      <td>0</td>\n",
       "      <td>0</td>\n",
       "    </tr>\n",
       "    <tr>\n",
       "      <td>2019-05-10 09:30:00</td>\n",
       "      <td>124.910004</td>\n",
       "      <td>125.906158</td>\n",
       "      <td>127.129997</td>\n",
       "      <td>1</td>\n",
       "      <td>1</td>\n",
       "    </tr>\n",
       "  </tbody>\n",
       "</table>\n",
       "</div>"
      ],
      "text/plain": [
       "                          Price    Forecast      Target  Predicted Growth  \\\n",
       "Date                                                                        \n",
       "2019-05-08 09:30:00  125.440002  152.206031  125.510002                 0   \n",
       "2019-05-08 16:00:00  125.510002  125.598477  124.290001                 0   \n",
       "2019-05-09 09:30:00  124.290001  125.671496  125.500000                 1   \n",
       "2019-05-09 16:00:00  125.500000  124.377718  124.910004                 0   \n",
       "2019-05-10 09:30:00  124.910004  125.906158  127.129997                 1   \n",
       "\n",
       "                     Actual Growth  \n",
       "Date                                \n",
       "2019-05-08 09:30:00              1  \n",
       "2019-05-08 16:00:00              0  \n",
       "2019-05-09 09:30:00              1  \n",
       "2019-05-09 16:00:00              0  \n",
       "2019-05-10 09:30:00              1  "
      ]
     },
     "execution_count": 21,
     "metadata": {},
     "output_type": "execute_result"
    }
   ],
   "source": [
    "stock['Forecast'] = model.predict()\n",
    "stock['Target'] = stock.Price.shift(-1)\n",
    "stock.head()"
   ]
  },
  {
   "cell_type": "code",
   "execution_count": 22,
   "metadata": {},
   "outputs": [
    {
     "name": "stdout",
     "output_type": "stream",
     "text": [
      "Score:  0.9566082335540104\n",
      "MSE:  11.747995736071015\n"
     ]
    },
    {
     "data": {
      "image/png": "[encoded data removed]",
      "text/plain": [
       "<Figure size 432x288 with 1 Axes>"
      ]
     },
     "metadata": {
      "needs_background": "light"
     },
     "output_type": "display_data"
    }
   ],
   "source": [
    "plt.scatter(stock.iloc[1: -1].Target, stock.iloc[1: -1].Forecast)\n",
    "plt.xlabel('True Values')\n",
    "plt.ylabel('Predictions')\n",
    "print('Score: ', metrics.r2_score(stock.iloc[1: -1].Target, stock.iloc[1: -1].Forecast))\n",
    "print('MSE: ', metrics.mean_squared_error(stock.iloc[1: -1].Target, stock.iloc[1: -1].Forecast))\n",
    "plt.show()"
   ]
  },
  {
   "cell_type": "code",
   "execution_count": 23,
   "metadata": {},
   "outputs": [],
   "source": [
    "stock['Predicted Growth'] = stock[['Forecast', 'Price']].apply(lambda x: 1 if x[0] - x[1] >= 5 else 0 if x[0] - x[1] <= -5 else 2, axis = 1)\n",
    "stock['Actual Growth'] = stock[['Target', 'Price']].apply(lambda x: 1 if x[0] - x[1] >= 5 else 0 if x[0] - x[1] <= -5 else 2, axis = 1)"
   ]
  },
  {
   "cell_type": "code",
   "execution_count": 24,
   "metadata": {},
   "outputs": [
    {
     "name": "stdout",
     "output_type": "stream",
     "text": [
      "Model Results: \n",
      "Currently Owning?:  True\n",
      "Last Buying Price: $ 167.820007\n",
      "Current Price: $ 184.979996\n",
      "Current Cash: $ -197.660003\n",
      "Profit: $ -12.68000699999999\n",
      "Number of Transactins: 7\n",
      "Cost of transactions: $ 35\n",
      "\n",
      "Best Case Results: \n",
      "Currently Owning?:  False\n",
      "Last Buying Price: $ 135.979996\n",
      "Current Price: $ 184.979996\n",
      "Current Cash: $ 106.96002100000001\n",
      "Profit: $ 106.96002100000001\n",
      "Number of Transactins: 12\n",
      "Cost of transactions: $ 60\n"
     ]
    }
   ],
   "source": [
    "print('Model Results: ')\n",
    "calculate_profit(stock.iloc[300:], 'Predicted Growth', -1)\n",
    "print('\\nBest Case Results: ')\n",
    "calculate_profit(stock.iloc[300:], 'Actual Growth', -1)"
   ]
  },
  {
   "cell_type": "code",
   "execution_count": 25,
   "metadata": {},
   "outputs": [
    {
     "data": {
      "text/html": [
       "<div>\n",
       "<style scoped>\n",
       "    .dataframe tbody tr th:only-of-type {\n",
       "        vertical-align: middle;\n",
       "    }\n",
       "\n",
       "    .dataframe tbody tr th {\n",
       "        vertical-align: top;\n",
       "    }\n",
       "\n",
       "    .dataframe thead th {\n",
       "        text-align: right;\n",
       "    }\n",
       "</style>\n",
       "<table border=\"1\" class=\"dataframe\">\n",
       "  <thead>\n",
       "    <tr style=\"text-align: right;\">\n",
       "      <th></th>\n",
       "      <th>Price</th>\n",
       "      <th>Forecast</th>\n",
       "      <th>Target</th>\n",
       "      <th>Predicted Growth</th>\n",
       "      <th>Actual Growth</th>\n",
       "      <th>Rolling Mean</th>\n",
       "    </tr>\n",
       "    <tr>\n",
       "      <th>Date</th>\n",
       "      <th></th>\n",
       "      <th></th>\n",
       "      <th></th>\n",
       "      <th></th>\n",
       "      <th></th>\n",
       "      <th></th>\n",
       "    </tr>\n",
       "  </thead>\n",
       "  <tbody>\n",
       "    <tr>\n",
       "      <td>2019-05-08 09:30:00</td>\n",
       "      <td>125.440002</td>\n",
       "      <td>152.206031</td>\n",
       "      <td>125.510002</td>\n",
       "      <td>1</td>\n",
       "      <td>2</td>\n",
       "      <td>NaN</td>\n",
       "    </tr>\n",
       "    <tr>\n",
       "      <td>2019-05-08 16:00:00</td>\n",
       "      <td>125.510002</td>\n",
       "      <td>125.598477</td>\n",
       "      <td>124.290001</td>\n",
       "      <td>2</td>\n",
       "      <td>2</td>\n",
       "      <td>NaN</td>\n",
       "    </tr>\n",
       "    <tr>\n",
       "      <td>2019-05-09 09:30:00</td>\n",
       "      <td>124.290001</td>\n",
       "      <td>125.671496</td>\n",
       "      <td>125.500000</td>\n",
       "      <td>2</td>\n",
       "      <td>2</td>\n",
       "      <td>NaN</td>\n",
       "    </tr>\n",
       "    <tr>\n",
       "      <td>2019-05-09 16:00:00</td>\n",
       "      <td>125.500000</td>\n",
       "      <td>124.377718</td>\n",
       "      <td>124.910004</td>\n",
       "      <td>2</td>\n",
       "      <td>2</td>\n",
       "      <td>NaN</td>\n",
       "    </tr>\n",
       "    <tr>\n",
       "      <td>2019-05-10 09:30:00</td>\n",
       "      <td>124.910004</td>\n",
       "      <td>125.906158</td>\n",
       "      <td>127.129997</td>\n",
       "      <td>2</td>\n",
       "      <td>2</td>\n",
       "      <td>NaN</td>\n",
       "    </tr>\n",
       "  </tbody>\n",
       "</table>\n",
       "</div>"
      ],
      "text/plain": [
       "                          Price    Forecast      Target  Predicted Growth  \\\n",
       "Date                                                                        \n",
       "2019-05-08 09:30:00  125.440002  152.206031  125.510002                 1   \n",
       "2019-05-08 16:00:00  125.510002  125.598477  124.290001                 2   \n",
       "2019-05-09 09:30:00  124.290001  125.671496  125.500000                 2   \n",
       "2019-05-09 16:00:00  125.500000  124.377718  124.910004                 2   \n",
       "2019-05-10 09:30:00  124.910004  125.906158  127.129997                 2   \n",
       "\n",
       "                     Actual Growth  Rolling Mean  \n",
       "Date                                              \n",
       "2019-05-08 09:30:00              2           NaN  \n",
       "2019-05-08 16:00:00              2           NaN  \n",
       "2019-05-09 09:30:00              2           NaN  \n",
       "2019-05-09 16:00:00              2           NaN  \n",
       "2019-05-10 09:30:00              2           NaN  "
      ]
     },
     "execution_count": 25,
     "metadata": {},
     "output_type": "execute_result"
    }
   ],
   "source": [
    "rolmean = pd.Series(stock.Price).rolling(20).mean()\n",
    "stock['Rolling Mean'] = rolmean\n",
    "stock.head()"
   ]
  },
  {
   "cell_type": "code",
   "execution_count": 26,
   "metadata": {},
   "outputs": [
    {
     "data": {
      "image/png": "[encoded data removed]",
      "text/plain": [
       "<Figure size 864x576 with 1 Axes>"
      ]
     },
     "metadata": {
      "needs_background": "light"
     },
     "output_type": "display_data"
    },
    {
     "name": "stdout",
     "output_type": "stream",
     "text": [
      "Results of Augmented Dickey-Fuller Test: \n",
      "Test Statistic            -4.998314\n",
      "P-Value                    0.000022\n",
      "No. Lags Used             18.000000\n",
      "No. Observations Used    469.000000\n",
      "Critical Value (1%)       -3.444370\n",
      "Critical Value (5%)       -2.867722\n",
      "Critical Value (10%)      -2.570063\n",
      "dtype: float64\n"
     ]
    }
   ],
   "source": [
    "stock['First Difference'] = stock['Rolling Mean'] - stock['Rolling Mean'].shift(1)\n",
    "test_stationarity(stock['First Difference'].dropna(inplace = False))"
   ]
  },
  {
   "cell_type": "code",
   "execution_count": 27,
   "metadata": {
    "scrolled": false
   },
   "outputs": [
    {
     "data": {
      "image/png": "[encoded data removed]",
      "text/plain": [
       "<Figure size 864x576 with 2 Axes>"
      ]
     },
     "metadata": {
      "needs_background": "light"
     },
     "output_type": "display_data"
    }
   ],
   "source": [
    "fig = plt.figure(figsize = (12,8))\n",
    "ax1 = fig.add_subplot(211)\n",
    "fig = sm.graphics.tsa.plot_acf(stock['Rolling Mean'].iloc[5:], lags=10, ax = ax1)\n",
    "ax2 = fig.add_subplot(212)\n",
    "fig = sm.graphics.tsa.plot_pacf(stock['Rolling Mean'].iloc[5:], lags=5, ax=ax2)\n",
    "plt.show()"
   ]
  },
  {
   "cell_type": "code",
   "execution_count": 28,
   "metadata": {},
   "outputs": [
    {
     "name": "stderr",
     "output_type": "stream",
     "text": [
      "/Users/maxzhang/opt/anaconda3/lib/python3.7/site-packages/statsmodels/tsa/statespace/sarimax.py:963: UserWarning: Non-stationary starting autoregressive parameters found. Using zeros as starting parameters.\n",
      "  warn('Non-stationary starting autoregressive parameters'\n",
      "/Users/maxzhang/opt/anaconda3/lib/python3.7/site-packages/statsmodels/base/model.py:568: ConvergenceWarning: Maximum Likelihood optimization failed to converge. Check mle_retvals\n",
      "  \"Check mle_retvals\", ConvergenceWarning)\n",
      "/Users/maxzhang/opt/anaconda3/lib/python3.7/site-packages/statsmodels/tsa/statespace/sarimax.py:975: UserWarning: Non-invertible starting MA parameters found. Using zeros as starting parameters.\n",
      "  warn('Non-invertible starting MA parameters found.'\n",
      "/Users/maxzhang/opt/anaconda3/lib/python3.7/site-packages/statsmodels/tsa/statespace/sarimax.py:963: UserWarning: Non-stationary starting autoregressive parameters found. Using zeros as starting parameters.\n",
      "  warn('Non-stationary starting autoregressive parameters'\n",
      "/Users/maxzhang/opt/anaconda3/lib/python3.7/site-packages/statsmodels/tsa/statespace/sarimax.py:975: UserWarning: Non-invertible starting MA parameters found. Using zeros as starting parameters.\n",
      "  warn('Non-invertible starting MA parameters found.'\n",
      "/Users/maxzhang/opt/anaconda3/lib/python3.7/site-packages/statsmodels/base/model.py:568: ConvergenceWarning: Maximum Likelihood optimization failed to converge. Check mle_retvals\n",
      "  \"Check mle_retvals\", ConvergenceWarning)\n",
      "/Users/maxzhang/opt/anaconda3/lib/python3.7/site-packages/statsmodels/base/model.py:568: ConvergenceWarning: Maximum Likelihood optimization failed to converge. Check mle_retvals\n",
      "  \"Check mle_retvals\", ConvergenceWarning)\n"
     ]
    },
    {
     "data": {
      "text/html": [
       "<table class=\"simpletable\">\n",
       "<caption>SARIMAX Results</caption>\n",
       "<tr>\n",
       "  <th>Dep. Variable:</th>           <td>y</td>        <th>  No. Observations:  </th>    <td>489</td>  \n",
       "</tr>\n",
       "<tr>\n",
       "  <th>Model:</th>           <td>SARIMAX(4, 0, 0)</td> <th>  Log Likelihood     </th>  <td>180.380</td>\n",
       "</tr>\n",
       "<tr>\n",
       "  <th>Date:</th>            <td>Sat, 09 May 2020</td> <th>  AIC                </th> <td>-348.760</td>\n",
       "</tr>\n",
       "<tr>\n",
       "  <th>Time:</th>                <td>14:24:54</td>     <th>  BIC                </th> <td>-323.606</td>\n",
       "</tr>\n",
       "<tr>\n",
       "  <th>Sample:</th>                  <td>0</td>        <th>  HQIC               </th> <td>-338.880</td>\n",
       "</tr>\n",
       "<tr>\n",
       "  <th></th>                      <td> - 489</td>      <th>                     </th>     <td> </td>   \n",
       "</tr>\n",
       "<tr>\n",
       "  <th>Covariance Type:</th>        <td>opg</td>       <th>                     </th>     <td> </td>   \n",
       "</tr>\n",
       "</table>\n",
       "<table class=\"simpletable\">\n",
       "<tr>\n",
       "      <td></td>         <th>coef</th>     <th>std err</th>      <th>z</th>      <th>P>|z|</th>  <th>[0.025</th>    <th>0.975]</th>  \n",
       "</tr>\n",
       "<tr>\n",
       "  <th>intercept</th> <td>    0.1240</td> <td>    0.073</td> <td>    1.700</td> <td> 0.089</td> <td>   -0.019</td> <td>    0.267</td>\n",
       "</tr>\n",
       "<tr>\n",
       "  <th>ar.L1</th>     <td>    2.0212</td> <td>    0.021</td> <td>   94.269</td> <td> 0.000</td> <td>    1.979</td> <td>    2.063</td>\n",
       "</tr>\n",
       "<tr>\n",
       "  <th>ar.L2</th>     <td>   -1.4137</td> <td>    0.052</td> <td>  -27.352</td> <td> 0.000</td> <td>   -1.515</td> <td>   -1.312</td>\n",
       "</tr>\n",
       "<tr>\n",
       "  <th>ar.L3</th>     <td>    0.7101</td> <td>    0.058</td> <td>   12.257</td> <td> 0.000</td> <td>    0.597</td> <td>    0.824</td>\n",
       "</tr>\n",
       "<tr>\n",
       "  <th>ar.L4</th>     <td>   -0.3184</td> <td>    0.026</td> <td>  -12.377</td> <td> 0.000</td> <td>   -0.369</td> <td>   -0.268</td>\n",
       "</tr>\n",
       "<tr>\n",
       "  <th>sigma2</th>    <td>    0.0273</td> <td>    0.001</td> <td>   26.432</td> <td> 0.000</td> <td>    0.025</td> <td>    0.029</td>\n",
       "</tr>\n",
       "</table>\n",
       "<table class=\"simpletable\">\n",
       "<tr>\n",
       "  <th>Ljung-Box (Q):</th>          <td>220.93</td> <th>  Jarque-Bera (JB):  </th> <td>700.44</td>\n",
       "</tr>\n",
       "<tr>\n",
       "  <th>Prob(Q):</th>                 <td>0.00</td>  <th>  Prob(JB):          </th>  <td>0.00</td> \n",
       "</tr>\n",
       "<tr>\n",
       "  <th>Heteroskedasticity (H):</th>  <td>7.80</td>  <th>  Skew:              </th>  <td>-0.03</td>\n",
       "</tr>\n",
       "<tr>\n",
       "  <th>Prob(H) (two-sided):</th>     <td>0.00</td>  <th>  Kurtosis:          </th>  <td>8.86</td> \n",
       "</tr>\n",
       "</table><br/><br/>Warnings:<br/>[1] Covariance matrix calculated using the outer product of gradients (complex-step)."
      ],
      "text/plain": [
       "<class 'statsmodels.iolib.summary.Summary'>\n",
       "\"\"\"\n",
       "                               SARIMAX Results                                \n",
       "==============================================================================\n",
       "Dep. Variable:                      y   No. Observations:                  489\n",
       "Model:               SARIMAX(4, 0, 0)   Log Likelihood                 180.380\n",
       "Date:                Sat, 09 May 2020   AIC                           -348.760\n",
       "Time:                        14:24:54   BIC                           -323.606\n",
       "Sample:                             0   HQIC                          -338.880\n",
       "                                - 489                                         \n",
       "Covariance Type:                  opg                                         \n",
       "==============================================================================\n",
       "                 coef    std err          z      P>|z|      [0.025      0.975]\n",
       "------------------------------------------------------------------------------\n",
       "intercept      0.1240      0.073      1.700      0.089      -0.019       0.267\n",
       "ar.L1          2.0212      0.021     94.269      0.000       1.979       2.063\n",
       "ar.L2         -1.4137      0.052    -27.352      0.000      -1.515      -1.312\n",
       "ar.L3          0.7101      0.058     12.257      0.000       0.597       0.824\n",
       "ar.L4         -0.3184      0.026    -12.377      0.000      -0.369      -0.268\n",
       "sigma2         0.0273      0.001     26.432      0.000       0.025       0.029\n",
       "===================================================================================\n",
       "Ljung-Box (Q):                      220.93   Jarque-Bera (JB):               700.44\n",
       "Prob(Q):                              0.00   Prob(JB):                         0.00\n",
       "Heteroskedasticity (H):               7.80   Skew:                            -0.03\n",
       "Prob(H) (two-sided):                  0.00   Kurtosis:                         8.86\n",
       "===================================================================================\n",
       "\n",
       "Warnings:\n",
       "[1] Covariance matrix calculated using the outer product of gradients (complex-step).\n",
       "\"\"\""
      ]
     },
     "execution_count": 28,
     "metadata": {},
     "output_type": "execute_result"
    }
   ],
   "source": [
    "optimal = auto_arima(stock['Rolling Mean'].dropna(inplace = False), start_p = 0, start_q = 0, test = 'adf', seasonal = True)\n",
    "optimal.summary()"
   ]
  },
  {
   "cell_type": "code",
   "execution_count": 29,
   "metadata": {
    "scrolled": false
   },
   "outputs": [
    {
     "name": "stderr",
     "output_type": "stream",
     "text": [
      "/Users/maxzhang/opt/anaconda3/lib/python3.7/site-packages/statsmodels/tsa/base/tsa_model.py:218: ValueWarning: A date index has been provided, but it has no associated frequency information and so will be ignored when e.g. forecasting.\n",
      "  ' ignored when e.g. forecasting.', ValueWarning)\n",
      "/Users/maxzhang/opt/anaconda3/lib/python3.7/site-packages/statsmodels/tsa/base/tsa_model.py:218: ValueWarning: A date index has been provided, but it has no associated frequency information and so will be ignored when e.g. forecasting.\n",
      "  ' ignored when e.g. forecasting.', ValueWarning)\n",
      "/Users/maxzhang/opt/anaconda3/lib/python3.7/site-packages/statsmodels/tsa/statespace/sarimax.py:963: UserWarning: Non-stationary starting autoregressive parameters found. Using zeros as starting parameters.\n",
      "  warn('Non-stationary starting autoregressive parameters'\n",
      "/Users/maxzhang/opt/anaconda3/lib/python3.7/site-packages/statsmodels/base/model.py:568: ConvergenceWarning: Maximum Likelihood optimization failed to converge. Check mle_retvals\n",
      "  \"Check mle_retvals\", ConvergenceWarning)\n"
     ]
    },
    {
     "data": {
      "text/html": [
       "<table class=\"simpletable\">\n",
       "<caption>SARIMAX Results</caption>\n",
       "<tr>\n",
       "  <th>Dep. Variable:</th>     <td>Rolling Mean</td>   <th>  No. Observations:  </th>   <td>508</td> \n",
       "</tr>\n",
       "<tr>\n",
       "  <th>Model:</th>           <td>SARIMAX(4, 0, 0)</td> <th>  Log Likelihood     </th>  <td>2.476</td>\n",
       "</tr>\n",
       "<tr>\n",
       "  <th>Date:</th>            <td>Sat, 09 May 2020</td> <th>  AIC                </th>  <td>5.049</td>\n",
       "</tr>\n",
       "<tr>\n",
       "  <th>Time:</th>                <td>14:24:55</td>     <th>  BIC                </th> <td>26.201</td>\n",
       "</tr>\n",
       "<tr>\n",
       "  <th>Sample:</th>                  <td>0</td>        <th>  HQIC               </th> <td>13.343</td>\n",
       "</tr>\n",
       "<tr>\n",
       "  <th></th>                      <td> - 508</td>      <th>                     </th>    <td> </td>  \n",
       "</tr>\n",
       "<tr>\n",
       "  <th>Covariance Type:</th>        <td>opg</td>       <th>                     </th>    <td> </td>  \n",
       "</tr>\n",
       "</table>\n",
       "<table class=\"simpletable\">\n",
       "<tr>\n",
       "     <td></td>       <th>coef</th>     <th>std err</th>      <th>z</th>      <th>P>|z|</th>  <th>[0.025</th>    <th>0.975]</th>  \n",
       "</tr>\n",
       "<tr>\n",
       "  <th>ar.L1</th>  <td>    1.3261</td> <td>    0.021</td> <td>   63.797</td> <td> 0.000</td> <td>    1.285</td> <td>    1.367</td>\n",
       "</tr>\n",
       "<tr>\n",
       "  <th>ar.L2</th>  <td>    0.6185</td> <td>    0.021</td> <td>   29.021</td> <td> 0.000</td> <td>    0.577</td> <td>    0.660</td>\n",
       "</tr>\n",
       "<tr>\n",
       "  <th>ar.L3</th>  <td>   -1.3258</td> <td>    0.021</td> <td>  -63.763</td> <td> 0.000</td> <td>   -1.367</td> <td>   -1.285</td>\n",
       "</tr>\n",
       "<tr>\n",
       "  <th>ar.L4</th>  <td>    0.3813</td> <td>    0.021</td> <td>   17.889</td> <td> 0.000</td> <td>    0.339</td> <td>    0.423</td>\n",
       "</tr>\n",
       "<tr>\n",
       "  <th>sigma2</th> <td>    0.0554</td> <td>    0.001</td> <td>   39.795</td> <td> 0.000</td> <td>    0.053</td> <td>    0.058</td>\n",
       "</tr>\n",
       "</table>\n",
       "<table class=\"simpletable\">\n",
       "<tr>\n",
       "  <th>Ljung-Box (Q):</th>          <td>724.81</td> <th>  Jarque-Bera (JB):  </th> <td>3094.37</td>\n",
       "</tr>\n",
       "<tr>\n",
       "  <th>Prob(Q):</th>                 <td>0.00</td>  <th>  Prob(JB):          </th>  <td>0.00</td>  \n",
       "</tr>\n",
       "<tr>\n",
       "  <th>Heteroskedasticity (H):</th>  <td>13.29</td> <th>  Skew:              </th>  <td>-0.46</td> \n",
       "</tr>\n",
       "<tr>\n",
       "  <th>Prob(H) (two-sided):</th>     <td>0.00</td>  <th>  Kurtosis:          </th>  <td>15.06</td> \n",
       "</tr>\n",
       "</table><br/><br/>Warnings:<br/>[1] Covariance matrix calculated using the outer product of gradients (complex-step)."
      ],
      "text/plain": [
       "<class 'statsmodels.iolib.summary.Summary'>\n",
       "\"\"\"\n",
       "                               SARIMAX Results                                \n",
       "==============================================================================\n",
       "Dep. Variable:           Rolling Mean   No. Observations:                  508\n",
       "Model:               SARIMAX(4, 0, 0)   Log Likelihood                   2.476\n",
       "Date:                Sat, 09 May 2020   AIC                              5.049\n",
       "Time:                        14:24:55   BIC                             26.201\n",
       "Sample:                             0   HQIC                            13.343\n",
       "                                - 508                                         \n",
       "Covariance Type:                  opg                                         \n",
       "==============================================================================\n",
       "                 coef    std err          z      P>|z|      [0.025      0.975]\n",
       "------------------------------------------------------------------------------\n",
       "ar.L1          1.3261      0.021     63.797      0.000       1.285       1.367\n",
       "ar.L2          0.6185      0.021     29.021      0.000       0.577       0.660\n",
       "ar.L3         -1.3258      0.021    -63.763      0.000      -1.367      -1.285\n",
       "ar.L4          0.3813      0.021     17.889      0.000       0.339       0.423\n",
       "sigma2         0.0554      0.001     39.795      0.000       0.053       0.058\n",
       "===================================================================================\n",
       "Ljung-Box (Q):                      724.81   Jarque-Bera (JB):              3094.37\n",
       "Prob(Q):                              0.00   Prob(JB):                         0.00\n",
       "Heteroskedasticity (H):              13.29   Skew:                            -0.46\n",
       "Prob(H) (two-sided):                  0.00   Kurtosis:                        15.06\n",
       "===================================================================================\n",
       "\n",
       "Warnings:\n",
       "[1] Covariance matrix calculated using the outer product of gradients (complex-step).\n",
       "\"\"\""
      ]
     },
     "execution_count": 29,
     "metadata": {},
     "output_type": "execute_result"
    }
   ],
   "source": [
    "model = sm.tsa.statespace.SARIMAX(stock['Rolling Mean'], trend = 'n', order = (4, 0, 0))\n",
    "results = model.fit()\n",
    "results.summary()"
   ]
  },
  {
   "cell_type": "code",
   "execution_count": 30,
   "metadata": {},
   "outputs": [],
   "source": [
    "stock['Forecast'] = results.predict()\n",
    "stock['Target'] = stock['Rolling Mean'].shift(-1)"
   ]
  },
  {
   "cell_type": "code",
   "execution_count": 31,
   "metadata": {},
   "outputs": [
    {
     "name": "stdout",
     "output_type": "stream",
     "text": [
      "Score:  0.9984937509713085\n",
      "MSE: 0.35508330266433424\n"
     ]
    },
    {
     "data": {
      "image/png": "[encoded data removed]",
      "text/plain": [
       "<Figure size 432x288 with 1 Axes>"
      ]
     },
     "metadata": {
      "needs_background": "light"
     },
     "output_type": "display_data"
    }
   ],
   "source": [
    "plt.scatter(stock.iloc[21:-1].Target, stock.iloc[21:-1].Forecast)\n",
    "plt.xlabel(\"True Values\")\n",
    "plt.ylabel(\"Predictions\")\n",
    "print(\"Score: \", metrics.r2_score(stock.iloc[21:-1].Target, stock.iloc[21:-1].Forecast))\n",
    "print(\"MSE:\", metrics.mean_squared_error(stock.iloc[21:-1].Target, stock.iloc[21:-1].Forecast))\n",
    "plt.show()"
   ]
  },
  {
   "cell_type": "code",
   "execution_count": 32,
   "metadata": {},
   "outputs": [],
   "source": [
    "stock['Predicted Growth'] = stock[['Forecast', 'Price']].apply(lambda x: 1 if x[0] - x[1] >= 0 else 0, axis = 1)\n",
    "stock['Actual Growth'] = stock[['Target', 'Price']].apply(lambda x: 1 if x[0] - x[1] >= 0 else 0, axis = 1)"
   ]
  },
  {
   "cell_type": "code",
   "execution_count": 33,
   "metadata": {},
   "outputs": [
    {
     "name": "stdout",
     "output_type": "stream",
     "text": [
      "Model Resuls: \n",
      "Currently Owning?:  False\n",
      "Last Buying Price: $ 169.809998\n",
      "Current Price: $ 184.979996\n",
      "Current Cash: $ 0.569991999999985\n",
      "Profit: $ 0.569991999999985\n",
      "Number of Transactins: 20\n",
      "Cost of transactions: $ 100\n",
      "\n",
      "Best Case Results:\n",
      "Currently Owning?:  False\n",
      "Last Buying Price: $ 169.809998\n",
      "Current Price: $ 184.979996\n",
      "Current Cash: $ 20.939986999999974\n",
      "Profit: $ 20.939986999999974\n",
      "Number of Transactins: 24\n",
      "Cost of transactions: $ 120\n"
     ]
    }
   ],
   "source": [
    "print(\"Model Resuls: \")\n",
    "calculate_profit(stock.iloc[300:], 'Predicted Growth', -1)\n",
    "print(\"\\nBest Case Results:\")\n",
    "calculate_profit(stock.iloc[300:], 'Actual Growth', -1)"
   ]
  },
  {
   "cell_type": "code",
   "execution_count": 34,
   "metadata": {},
   "outputs": [],
   "source": [
    "def evaluate_model(truth, predictions, model = None, X = None):\n",
    "    cm = confusion_matrix(truth, predictions)\n",
    "\n",
    "    print('True Negative: ', cm[0, 0], '| False Positive: ', cm[0, 1])\n",
    "    print('False Negative: ', cm[1, 0], '| True Positive: ', cm[1, 1], '\\n')\n",
    "\n",
    "    sensitivity = cm[1, 1]/ (cm[1, 0] + cm[1, 1])\n",
    "    specificity = cm[0, 0]/ (cm[0, 1] + cm[0, 0])\n",
    "\n",
    "    print('Sensitivity (TP/ TP + FN): ', sensitivity)\n",
    "    print('Specificity (TN/ TN + FP): ', specificity, '\\n')\n",
    "\n",
    "    print('Accuracy: ', accuracy_score(truth, predictions, normalize = True))\n",
    "    print('Precision: ', precision_score(truth, predictions))\n",
    "    if model != None:\n",
    "        print('Roc-Auc: ', roc_auc_score(truth, [x[1] for x in model.predict_proba(X)]))\n",
    "    else:\n",
    "        pass\n",
    "    print('\\n')"
   ]
  },
  {
   "cell_type": "code",
   "execution_count": 35,
   "metadata": {},
   "outputs": [
    {
     "name": "stdout",
     "output_type": "stream",
     "text": [
      "True Negative:  351 | False Positive:  5\n",
      "False Negative:  5 | True Positive:  147 \n",
      "\n",
      "Sensitivity (TP/ TP + FN):  0.9671052631578947\n",
      "Specificity (TN/ TN + FP):  0.9859550561797753 \n",
      "\n",
      "Accuracy:  0.9803149606299213\n",
      "Precision:  0.9671052631578947\n",
      "\n",
      "\n"
     ]
    }
   ],
   "source": [
    "evaluate_model(stock['Actual Growth'], stock['Predicted Growth'])"
   ]
  },
  {
   "cell_type": "code",
   "execution_count": 36,
   "metadata": {},
   "outputs": [],
   "source": [
    "stock['Predicted Growth'] = stock[['Forecast', 'Price']].apply(lambda x: 1 if x[0] - x[1] >= 5 else 0 if x[0] - x[1] <= -5 else 2, axis = 1)\n",
    "stock['Actual Growth'] = stock[['Target', 'Price']].apply(lambda x: 1 if x[0] - x[1] >= 5 else 0 if x[0] - x[1] <= -5 else 2, axis = 1)"
   ]
  },
  {
   "cell_type": "code",
   "execution_count": 37,
   "metadata": {
    "scrolled": true
   },
   "outputs": [
    {
     "name": "stdout",
     "output_type": "stream",
     "text": [
      "Model Resuls: \n",
      "Currently Owning?:  False\n",
      "Last Buying Price: $ 178.58999599999999\n",
      "Current Price: $ 184.979996\n",
      "Current Cash: $ -29.67999199999997\n",
      "Profit: $ -29.67999199999997\n",
      "Number of Transactins: 2\n",
      "Cost of transactions: $ 10\n",
      "\n",
      "Best Case Results:\n",
      "Currently Owning?:  False\n",
      "Last Buying Price: $ 178.58999599999999\n",
      "Current Price: $ 184.979996\n",
      "Current Cash: $ -29.67999199999997\n",
      "Profit: $ -29.67999199999997\n",
      "Number of Transactins: 2\n",
      "Cost of transactions: $ 10\n"
     ]
    }
   ],
   "source": [
    "print(\"Model Resuls: \")\n",
    "calculate_profit(stock.iloc[300:], 'Predicted Growth', -1)\n",
    "print(\"\\nBest Case Results:\")\n",
    "calculate_profit(stock.iloc[300:], 'Actual Growth', -1)"
   ]
  },
  {
   "cell_type": "code",
   "execution_count": 38,
   "metadata": {
    "scrolled": false
   },
   "outputs": [
    {
     "name": "stderr",
     "output_type": "stream",
     "text": [
      "/Users/maxzhang/opt/anaconda3/lib/python3.7/site-packages/statsmodels/tsa/base/tsa_model.py:218: ValueWarning: A date index has been provided, but it has no associated frequency information and so will be ignored when e.g. forecasting.\n",
      "  ' ignored when e.g. forecasting.', ValueWarning)\n",
      "/Users/maxzhang/opt/anaconda3/lib/python3.7/site-packages/statsmodels/tsa/base/tsa_model.py:218: ValueWarning: A date index has been provided, but it has no associated frequency information and so will be ignored when e.g. forecasting.\n",
      "  ' ignored when e.g. forecasting.', ValueWarning)\n",
      "/Users/maxzhang/opt/anaconda3/lib/python3.7/site-packages/statsmodels/tsa/statespace/sarimax.py:963: UserWarning: Non-stationary starting autoregressive parameters found. Using zeros as starting parameters.\n",
      "  warn('Non-stationary starting autoregressive parameters'\n",
      "/Users/maxzhang/opt/anaconda3/lib/python3.7/site-packages/statsmodels/base/model.py:568: ConvergenceWarning: Maximum Likelihood optimization failed to converge. Check mle_retvals\n",
      "  \"Check mle_retvals\", ConvergenceWarning)\n",
      "/Users/maxzhang/opt/anaconda3/lib/python3.7/site-packages/statsmodels/tsa/base/tsa_model.py:218: ValueWarning: A date index has been provided, but it has no associated frequency information and so will be ignored when e.g. forecasting.\n",
      "  ' ignored when e.g. forecasting.', ValueWarning)\n",
      "/Users/maxzhang/opt/anaconda3/lib/python3.7/site-packages/statsmodels/tsa/base/tsa_model.py:218: ValueWarning: A date index has been provided, but it has no associated frequency information and so will be ignored when e.g. forecasting.\n",
      "  ' ignored when e.g. forecasting.', ValueWarning)\n"
     ]
    },
    {
     "name": "stdout",
     "output_type": "stream",
     "text": [
      "Currently Owning?:  True\n",
      "Last Buying Price: $ 167.820007\n",
      "Current Price: $ 184.979996\n",
      "Current Cash: $ -197.660003\n",
      "Profit: $ -12.68000699999999\n",
      "Number of Transactins: 7\n",
      "Cost of transactions: $ 35\n"
     ]
    },
    {
     "name": "stderr",
     "output_type": "stream",
     "text": [
      "/Users/maxzhang/opt/anaconda3/lib/python3.7/site-packages/statsmodels/base/model.py:568: ConvergenceWarning: Maximum Likelihood optimization failed to converge. Check mle_retvals\n",
      "  \"Check mle_retvals\", ConvergenceWarning)\n",
      "/Users/maxzhang/opt/anaconda3/lib/python3.7/site-packages/statsmodels/tsa/base/tsa_model.py:218: ValueWarning: A date index has been provided, but it has no associated frequency information and so will be ignored when e.g. forecasting.\n",
      "  ' ignored when e.g. forecasting.', ValueWarning)\n",
      "/Users/maxzhang/opt/anaconda3/lib/python3.7/site-packages/statsmodels/tsa/base/tsa_model.py:218: ValueWarning: A date index has been provided, but it has no associated frequency information and so will be ignored when e.g. forecasting.\n",
      "  ' ignored when e.g. forecasting.', ValueWarning)\n"
     ]
    },
    {
     "name": "stdout",
     "output_type": "stream",
     "text": [
      "Currently Owning?:  False\n",
      "Last Buying Price: $ 167.820007\n",
      "Current Price: $ 184.979996\n",
      "Current Cash: $ -11.22001499999999\n",
      "Profit: $ -11.22001499999999\n",
      "Number of Transactins: 12\n",
      "Cost of transactions: $ 60\n"
     ]
    },
    {
     "name": "stderr",
     "output_type": "stream",
     "text": [
      "/Users/maxzhang/opt/anaconda3/lib/python3.7/site-packages/statsmodels/base/model.py:568: ConvergenceWarning: Maximum Likelihood optimization failed to converge. Check mle_retvals\n",
      "  \"Check mle_retvals\", ConvergenceWarning)\n",
      "/Users/maxzhang/opt/anaconda3/lib/python3.7/site-packages/statsmodels/tsa/base/tsa_model.py:218: ValueWarning: A date index has been provided, but it has no associated frequency information and so will be ignored when e.g. forecasting.\n",
      "  ' ignored when e.g. forecasting.', ValueWarning)\n",
      "/Users/maxzhang/opt/anaconda3/lib/python3.7/site-packages/statsmodels/tsa/base/tsa_model.py:218: ValueWarning: A date index has been provided, but it has no associated frequency information and so will be ignored when e.g. forecasting.\n",
      "  ' ignored when e.g. forecasting.', ValueWarning)\n"
     ]
    },
    {
     "name": "stdout",
     "output_type": "stream",
     "text": [
      "Currently Owning?:  False\n",
      "Last Buying Price: $ 167.820007\n",
      "Current Price: $ 184.979996\n",
      "Current Cash: $ 22.020020000000045\n",
      "Profit: $ 22.020020000000045\n",
      "Number of Transactins: 16\n",
      "Cost of transactions: $ 80\n"
     ]
    },
    {
     "name": "stderr",
     "output_type": "stream",
     "text": [
      "/Users/maxzhang/opt/anaconda3/lib/python3.7/site-packages/statsmodels/base/model.py:568: ConvergenceWarning: Maximum Likelihood optimization failed to converge. Check mle_retvals\n",
      "  \"Check mle_retvals\", ConvergenceWarning)\n",
      "/Users/maxzhang/opt/anaconda3/lib/python3.7/site-packages/statsmodels/tsa/base/tsa_model.py:218: ValueWarning: A date index has been provided, but it has no associated frequency information and so will be ignored when e.g. forecasting.\n",
      "  ' ignored when e.g. forecasting.', ValueWarning)\n",
      "/Users/maxzhang/opt/anaconda3/lib/python3.7/site-packages/statsmodels/tsa/base/tsa_model.py:218: ValueWarning: A date index has been provided, but it has no associated frequency information and so will be ignored when e.g. forecasting.\n",
      "  ' ignored when e.g. forecasting.', ValueWarning)\n"
     ]
    },
    {
     "name": "stdout",
     "output_type": "stream",
     "text": [
      "Currently Owning?:  False\n",
      "Last Buying Price: $ 167.820007\n",
      "Current Price: $ 184.979996\n",
      "Current Cash: $ 38.890000000000015\n",
      "Profit: $ 38.890000000000015\n",
      "Number of Transactins: 16\n",
      "Cost of transactions: $ 80\n"
     ]
    },
    {
     "name": "stderr",
     "output_type": "stream",
     "text": [
      "/Users/maxzhang/opt/anaconda3/lib/python3.7/site-packages/statsmodels/base/model.py:568: ConvergenceWarning: Maximum Likelihood optimization failed to converge. Check mle_retvals\n",
      "  \"Check mle_retvals\", ConvergenceWarning)\n",
      "/Users/maxzhang/opt/anaconda3/lib/python3.7/site-packages/statsmodels/tsa/base/tsa_model.py:218: ValueWarning: A date index has been provided, but it has no associated frequency information and so will be ignored when e.g. forecasting.\n",
      "  ' ignored when e.g. forecasting.', ValueWarning)\n",
      "/Users/maxzhang/opt/anaconda3/lib/python3.7/site-packages/statsmodels/tsa/base/tsa_model.py:218: ValueWarning: A date index has been provided, but it has no associated frequency information and so will be ignored when e.g. forecasting.\n",
      "  ' ignored when e.g. forecasting.', ValueWarning)\n"
     ]
    },
    {
     "name": "stdout",
     "output_type": "stream",
     "text": [
      "Currently Owning?:  False\n",
      "Last Buying Price: $ 167.820007\n",
      "Current Price: $ 184.979996\n",
      "Current Cash: $ 46.23001100000002\n",
      "Profit: $ 46.23001100000002\n",
      "Number of Transactins: 14\n",
      "Cost of transactions: $ 70\n"
     ]
    },
    {
     "name": "stderr",
     "output_type": "stream",
     "text": [
      "/Users/maxzhang/opt/anaconda3/lib/python3.7/site-packages/statsmodels/base/model.py:568: ConvergenceWarning: Maximum Likelihood optimization failed to converge. Check mle_retvals\n",
      "  \"Check mle_retvals\", ConvergenceWarning)\n",
      "/Users/maxzhang/opt/anaconda3/lib/python3.7/site-packages/statsmodels/tsa/base/tsa_model.py:218: ValueWarning: A date index has been provided, but it has no associated frequency information and so will be ignored when e.g. forecasting.\n",
      "  ' ignored when e.g. forecasting.', ValueWarning)\n",
      "/Users/maxzhang/opt/anaconda3/lib/python3.7/site-packages/statsmodels/tsa/base/tsa_model.py:218: ValueWarning: A date index has been provided, but it has no associated frequency information and so will be ignored when e.g. forecasting.\n",
      "  ' ignored when e.g. forecasting.', ValueWarning)\n"
     ]
    },
    {
     "name": "stdout",
     "output_type": "stream",
     "text": [
      "Currently Owning?:  False\n",
      "Last Buying Price: $ 167.820007\n",
      "Current Price: $ 184.979996\n",
      "Current Cash: $ 25.819991999999985\n",
      "Profit: $ 25.819991999999985\n",
      "Number of Transactins: 12\n",
      "Cost of transactions: $ 60\n"
     ]
    },
    {
     "name": "stderr",
     "output_type": "stream",
     "text": [
      "/Users/maxzhang/opt/anaconda3/lib/python3.7/site-packages/statsmodels/base/model.py:568: ConvergenceWarning: Maximum Likelihood optimization failed to converge. Check mle_retvals\n",
      "  \"Check mle_retvals\", ConvergenceWarning)\n",
      "/Users/maxzhang/opt/anaconda3/lib/python3.7/site-packages/statsmodels/tsa/base/tsa_model.py:218: ValueWarning: A date index has been provided, but it has no associated frequency information and so will be ignored when e.g. forecasting.\n",
      "  ' ignored when e.g. forecasting.', ValueWarning)\n",
      "/Users/maxzhang/opt/anaconda3/lib/python3.7/site-packages/statsmodels/tsa/base/tsa_model.py:218: ValueWarning: A date index has been provided, but it has no associated frequency information and so will be ignored when e.g. forecasting.\n",
      "  ' ignored when e.g. forecasting.', ValueWarning)\n"
     ]
    },
    {
     "name": "stdout",
     "output_type": "stream",
     "text": [
      "Currently Owning?:  True\n",
      "Last Buying Price: $ 167.820007\n",
      "Current Price: $ 184.979996\n",
      "Current Cash: $ -147.51001000000002\n",
      "Profit: $ 37.46998599999998\n",
      "Number of Transactins: 11\n",
      "Cost of transactions: $ 55\n"
     ]
    },
    {
     "name": "stderr",
     "output_type": "stream",
     "text": [
      "/Users/maxzhang/opt/anaconda3/lib/python3.7/site-packages/statsmodels/base/model.py:568: ConvergenceWarning: Maximum Likelihood optimization failed to converge. Check mle_retvals\n",
      "  \"Check mle_retvals\", ConvergenceWarning)\n",
      "/Users/maxzhang/opt/anaconda3/lib/python3.7/site-packages/statsmodels/tsa/base/tsa_model.py:218: ValueWarning: A date index has been provided, but it has no associated frequency information and so will be ignored when e.g. forecasting.\n",
      "  ' ignored when e.g. forecasting.', ValueWarning)\n",
      "/Users/maxzhang/opt/anaconda3/lib/python3.7/site-packages/statsmodels/tsa/base/tsa_model.py:218: ValueWarning: A date index has been provided, but it has no associated frequency information and so will be ignored when e.g. forecasting.\n",
      "  ' ignored when e.g. forecasting.', ValueWarning)\n"
     ]
    },
    {
     "name": "stdout",
     "output_type": "stream",
     "text": [
      "Currently Owning?:  False\n",
      "Last Buying Price: $ 167.820007\n",
      "Current Price: $ 184.979996\n",
      "Current Cash: $ 32.83000099999998\n",
      "Profit: $ 32.83000099999998\n",
      "Number of Transactins: 12\n",
      "Cost of transactions: $ 60\n"
     ]
    },
    {
     "name": "stderr",
     "output_type": "stream",
     "text": [
      "/Users/maxzhang/opt/anaconda3/lib/python3.7/site-packages/statsmodels/base/model.py:568: ConvergenceWarning: Maximum Likelihood optimization failed to converge. Check mle_retvals\n",
      "  \"Check mle_retvals\", ConvergenceWarning)\n",
      "/Users/maxzhang/opt/anaconda3/lib/python3.7/site-packages/statsmodels/tsa/base/tsa_model.py:218: ValueWarning: A date index has been provided, but it has no associated frequency information and so will be ignored when e.g. forecasting.\n",
      "  ' ignored when e.g. forecasting.', ValueWarning)\n",
      "/Users/maxzhang/opt/anaconda3/lib/python3.7/site-packages/statsmodels/tsa/base/tsa_model.py:218: ValueWarning: A date index has been provided, but it has no associated frequency information and so will be ignored when e.g. forecasting.\n",
      "  ' ignored when e.g. forecasting.', ValueWarning)\n"
     ]
    },
    {
     "name": "stdout",
     "output_type": "stream",
     "text": [
      "Currently Owning?:  False\n",
      "Last Buying Price: $ 167.820007\n",
      "Current Price: $ 184.979996\n",
      "Current Cash: $ 23.839995999999985\n",
      "Profit: $ 23.839995999999985\n",
      "Number of Transactins: 10\n",
      "Cost of transactions: $ 50\n"
     ]
    },
    {
     "name": "stderr",
     "output_type": "stream",
     "text": [
      "/Users/maxzhang/opt/anaconda3/lib/python3.7/site-packages/statsmodels/base/model.py:568: ConvergenceWarning: Maximum Likelihood optimization failed to converge. Check mle_retvals\n",
      "  \"Check mle_retvals\", ConvergenceWarning)\n",
      "/Users/maxzhang/opt/anaconda3/lib/python3.7/site-packages/statsmodels/tsa/base/tsa_model.py:218: ValueWarning: A date index has been provided, but it has no associated frequency information and so will be ignored when e.g. forecasting.\n",
      "  ' ignored when e.g. forecasting.', ValueWarning)\n",
      "/Users/maxzhang/opt/anaconda3/lib/python3.7/site-packages/statsmodels/tsa/base/tsa_model.py:218: ValueWarning: A date index has been provided, but it has no associated frequency information and so will be ignored when e.g. forecasting.\n",
      "  ' ignored when e.g. forecasting.', ValueWarning)\n"
     ]
    },
    {
     "name": "stdout",
     "output_type": "stream",
     "text": [
      "Currently Owning?:  False\n",
      "Last Buying Price: $ 167.820007\n",
      "Current Price: $ 184.979996\n",
      "Current Cash: $ 24.879989999999992\n",
      "Profit: $ 24.879989999999992\n",
      "Number of Transactins: 10\n",
      "Cost of transactions: $ 50\n"
     ]
    },
    {
     "name": "stderr",
     "output_type": "stream",
     "text": [
      "/Users/maxzhang/opt/anaconda3/lib/python3.7/site-packages/statsmodels/base/model.py:568: ConvergenceWarning: Maximum Likelihood optimization failed to converge. Check mle_retvals\n",
      "  \"Check mle_retvals\", ConvergenceWarning)\n",
      "/Users/maxzhang/opt/anaconda3/lib/python3.7/site-packages/statsmodels/tsa/base/tsa_model.py:218: ValueWarning: A date index has been provided, but it has no associated frequency information and so will be ignored when e.g. forecasting.\n",
      "  ' ignored when e.g. forecasting.', ValueWarning)\n",
      "/Users/maxzhang/opt/anaconda3/lib/python3.7/site-packages/statsmodels/tsa/base/tsa_model.py:218: ValueWarning: A date index has been provided, but it has no associated frequency information and so will be ignored when e.g. forecasting.\n",
      "  ' ignored when e.g. forecasting.', ValueWarning)\n"
     ]
    },
    {
     "name": "stdout",
     "output_type": "stream",
     "text": [
      "Currently Owning?:  False\n",
      "Last Buying Price: $ 167.820007\n",
      "Current Price: $ 184.979996\n",
      "Current Cash: $ 30.86000100000001\n",
      "Profit: $ 30.86000100000001\n",
      "Number of Transactins: 10\n",
      "Cost of transactions: $ 50\n"
     ]
    },
    {
     "name": "stderr",
     "output_type": "stream",
     "text": [
      "/Users/maxzhang/opt/anaconda3/lib/python3.7/site-packages/statsmodels/base/model.py:568: ConvergenceWarning: Maximum Likelihood optimization failed to converge. Check mle_retvals\n",
      "  \"Check mle_retvals\", ConvergenceWarning)\n",
      "/Users/maxzhang/opt/anaconda3/lib/python3.7/site-packages/statsmodels/tsa/base/tsa_model.py:218: ValueWarning: A date index has been provided, but it has no associated frequency information and so will be ignored when e.g. forecasting.\n",
      "  ' ignored when e.g. forecasting.', ValueWarning)\n",
      "/Users/maxzhang/opt/anaconda3/lib/python3.7/site-packages/statsmodels/tsa/base/tsa_model.py:218: ValueWarning: A date index has been provided, but it has no associated frequency information and so will be ignored when e.g. forecasting.\n",
      "  ' ignored when e.g. forecasting.', ValueWarning)\n"
     ]
    },
    {
     "name": "stdout",
     "output_type": "stream",
     "text": [
      "Currently Owning?:  False\n",
      "Last Buying Price: $ 167.820007\n",
      "Current Price: $ 184.979996\n",
      "Current Cash: $ 35.449996999999996\n",
      "Profit: $ 35.449996999999996\n",
      "Number of Transactins: 10\n",
      "Cost of transactions: $ 50\n"
     ]
    },
    {
     "name": "stderr",
     "output_type": "stream",
     "text": [
      "/Users/maxzhang/opt/anaconda3/lib/python3.7/site-packages/statsmodels/base/model.py:568: ConvergenceWarning: Maximum Likelihood optimization failed to converge. Check mle_retvals\n",
      "  \"Check mle_retvals\", ConvergenceWarning)\n",
      "/Users/maxzhang/opt/anaconda3/lib/python3.7/site-packages/statsmodels/tsa/base/tsa_model.py:218: ValueWarning: A date index has been provided, but it has no associated frequency information and so will be ignored when e.g. forecasting.\n",
      "  ' ignored when e.g. forecasting.', ValueWarning)\n",
      "/Users/maxzhang/opt/anaconda3/lib/python3.7/site-packages/statsmodels/tsa/base/tsa_model.py:218: ValueWarning: A date index has been provided, but it has no associated frequency information and so will be ignored when e.g. forecasting.\n",
      "  ' ignored when e.g. forecasting.', ValueWarning)\n"
     ]
    },
    {
     "name": "stdout",
     "output_type": "stream",
     "text": [
      "Currently Owning?:  False\n",
      "Last Buying Price: $ 167.820007\n",
      "Current Price: $ 184.979996\n",
      "Current Cash: $ 35.449996999999996\n",
      "Profit: $ 35.449996999999996\n",
      "Number of Transactins: 10\n",
      "Cost of transactions: $ 50\n"
     ]
    },
    {
     "name": "stderr",
     "output_type": "stream",
     "text": [
      "/Users/maxzhang/opt/anaconda3/lib/python3.7/site-packages/statsmodels/base/model.py:568: ConvergenceWarning: Maximum Likelihood optimization failed to converge. Check mle_retvals\n",
      "  \"Check mle_retvals\", ConvergenceWarning)\n",
      "/Users/maxzhang/opt/anaconda3/lib/python3.7/site-packages/statsmodels/tsa/base/tsa_model.py:218: ValueWarning: A date index has been provided, but it has no associated frequency information and so will be ignored when e.g. forecasting.\n",
      "  ' ignored when e.g. forecasting.', ValueWarning)\n",
      "/Users/maxzhang/opt/anaconda3/lib/python3.7/site-packages/statsmodels/tsa/base/tsa_model.py:218: ValueWarning: A date index has been provided, but it has no associated frequency information and so will be ignored when e.g. forecasting.\n",
      "  ' ignored when e.g. forecasting.', ValueWarning)\n"
     ]
    },
    {
     "name": "stdout",
     "output_type": "stream",
     "text": [
      "Currently Owning?:  False\n",
      "Last Buying Price: $ 167.820007\n",
      "Current Price: $ 184.979996\n",
      "Current Cash: $ 4.729996\n",
      "Profit: $ 4.729996\n",
      "Number of Transactins: 6\n",
      "Cost of transactions: $ 30\n"
     ]
    },
    {
     "name": "stderr",
     "output_type": "stream",
     "text": [
      "/Users/maxzhang/opt/anaconda3/lib/python3.7/site-packages/statsmodels/base/model.py:568: ConvergenceWarning: Maximum Likelihood optimization failed to converge. Check mle_retvals\n",
      "  \"Check mle_retvals\", ConvergenceWarning)\n",
      "/Users/maxzhang/opt/anaconda3/lib/python3.7/site-packages/statsmodels/tsa/base/tsa_model.py:218: ValueWarning: A date index has been provided, but it has no associated frequency information and so will be ignored when e.g. forecasting.\n",
      "  ' ignored when e.g. forecasting.', ValueWarning)\n",
      "/Users/maxzhang/opt/anaconda3/lib/python3.7/site-packages/statsmodels/tsa/base/tsa_model.py:218: ValueWarning: A date index has been provided, but it has no associated frequency information and so will be ignored when e.g. forecasting.\n",
      "  ' ignored when e.g. forecasting.', ValueWarning)\n"
     ]
    },
    {
     "name": "stdout",
     "output_type": "stream",
     "text": [
      "Currently Owning?:  False\n",
      "Last Buying Price: $ 151.0\n",
      "Current Price: $ 184.979996\n",
      "Current Cash: $ -7.449996999999996\n",
      "Profit: $ -7.449996999999996\n",
      "Number of Transactins: 4\n",
      "Cost of transactions: $ 20\n"
     ]
    },
    {
     "name": "stderr",
     "output_type": "stream",
     "text": [
      "/Users/maxzhang/opt/anaconda3/lib/python3.7/site-packages/statsmodels/base/model.py:568: ConvergenceWarning: Maximum Likelihood optimization failed to converge. Check mle_retvals\n",
      "  \"Check mle_retvals\", ConvergenceWarning)\n",
      "/Users/maxzhang/opt/anaconda3/lib/python3.7/site-packages/statsmodels/tsa/base/tsa_model.py:218: ValueWarning: A date index has been provided, but it has no associated frequency information and so will be ignored when e.g. forecasting.\n",
      "  ' ignored when e.g. forecasting.', ValueWarning)\n",
      "/Users/maxzhang/opt/anaconda3/lib/python3.7/site-packages/statsmodels/tsa/base/tsa_model.py:218: ValueWarning: A date index has been provided, but it has no associated frequency information and so will be ignored when e.g. forecasting.\n",
      "  ' ignored when e.g. forecasting.', ValueWarning)\n"
     ]
    },
    {
     "name": "stdout",
     "output_type": "stream",
     "text": [
      "Currently Owning?:  False\n",
      "Last Buying Price: $ 178.58999599999999\n",
      "Current Price: $ 184.979996\n",
      "Current Cash: $ -30.25\n",
      "Profit: $ -30.25\n",
      "Number of Transactins: 2\n",
      "Cost of transactions: $ 10\n",
      "Currently Owning?:  False\n",
      "Last Buying Price: $ 178.58999599999999\n",
      "Current Price: $ 184.979996\n",
      "Current Cash: $ -30.25\n",
      "Profit: $ -30.25\n",
      "Number of Transactins: 2\n",
      "Cost of transactions: $ 10\n"
     ]
    },
    {
     "name": "stderr",
     "output_type": "stream",
     "text": [
      "/Users/maxzhang/opt/anaconda3/lib/python3.7/site-packages/statsmodels/tsa/base/tsa_model.py:218: ValueWarning: A date index has been provided, but it has no associated frequency information and so will be ignored when e.g. forecasting.\n",
      "  ' ignored when e.g. forecasting.', ValueWarning)\n",
      "/Users/maxzhang/opt/anaconda3/lib/python3.7/site-packages/statsmodels/tsa/base/tsa_model.py:218: ValueWarning: A date index has been provided, but it has no associated frequency information and so will be ignored when e.g. forecasting.\n",
      "  ' ignored when e.g. forecasting.', ValueWarning)\n",
      "/Users/maxzhang/opt/anaconda3/lib/python3.7/site-packages/statsmodels/base/model.py:568: ConvergenceWarning: Maximum Likelihood optimization failed to converge. Check mle_retvals\n",
      "  \"Check mle_retvals\", ConvergenceWarning)\n",
      "/Users/maxzhang/opt/anaconda3/lib/python3.7/site-packages/statsmodels/tsa/base/tsa_model.py:218: ValueWarning: A date index has been provided, but it has no associated frequency information and so will be ignored when e.g. forecasting.\n",
      "  ' ignored when e.g. forecasting.', ValueWarning)\n",
      "/Users/maxzhang/opt/anaconda3/lib/python3.7/site-packages/statsmodels/tsa/base/tsa_model.py:218: ValueWarning: A date index has been provided, but it has no associated frequency information and so will be ignored when e.g. forecasting.\n",
      "  ' ignored when e.g. forecasting.', ValueWarning)\n"
     ]
    },
    {
     "name": "stdout",
     "output_type": "stream",
     "text": [
      "Currently Owning?:  False\n",
      "Last Buying Price: $ 178.58999599999999\n",
      "Current Price: $ 184.979996\n",
      "Current Cash: $ -30.25\n",
      "Profit: $ -30.25\n",
      "Number of Transactins: 2\n",
      "Cost of transactions: $ 10\n"
     ]
    },
    {
     "name": "stderr",
     "output_type": "stream",
     "text": [
      "/Users/maxzhang/opt/anaconda3/lib/python3.7/site-packages/statsmodels/base/model.py:568: ConvergenceWarning: Maximum Likelihood optimization failed to converge. Check mle_retvals\n",
      "  \"Check mle_retvals\", ConvergenceWarning)\n",
      "/Users/maxzhang/opt/anaconda3/lib/python3.7/site-packages/statsmodels/tsa/base/tsa_model.py:218: ValueWarning: A date index has been provided, but it has no associated frequency information and so will be ignored when e.g. forecasting.\n",
      "  ' ignored when e.g. forecasting.', ValueWarning)\n",
      "/Users/maxzhang/opt/anaconda3/lib/python3.7/site-packages/statsmodels/tsa/base/tsa_model.py:218: ValueWarning: A date index has been provided, but it has no associated frequency information and so will be ignored when e.g. forecasting.\n",
      "  ' ignored when e.g. forecasting.', ValueWarning)\n"
     ]
    },
    {
     "name": "stdout",
     "output_type": "stream",
     "text": [
      "Currently Owning?:  False\n",
      "Last Buying Price: $ 178.58999599999999\n",
      "Current Price: $ 184.979996\n",
      "Current Cash: $ -30.25\n",
      "Profit: $ -30.25\n",
      "Number of Transactins: 2\n",
      "Cost of transactions: $ 10\n"
     ]
    },
    {
     "name": "stderr",
     "output_type": "stream",
     "text": [
      "/Users/maxzhang/opt/anaconda3/lib/python3.7/site-packages/statsmodels/base/model.py:568: ConvergenceWarning: Maximum Likelihood optimization failed to converge. Check mle_retvals\n",
      "  \"Check mle_retvals\", ConvergenceWarning)\n",
      "/Users/maxzhang/opt/anaconda3/lib/python3.7/site-packages/statsmodels/tsa/base/tsa_model.py:218: ValueWarning: A date index has been provided, but it has no associated frequency information and so will be ignored when e.g. forecasting.\n",
      "  ' ignored when e.g. forecasting.', ValueWarning)\n",
      "/Users/maxzhang/opt/anaconda3/lib/python3.7/site-packages/statsmodels/tsa/base/tsa_model.py:218: ValueWarning: A date index has been provided, but it has no associated frequency information and so will be ignored when e.g. forecasting.\n",
      "  ' ignored when e.g. forecasting.', ValueWarning)\n"
     ]
    },
    {
     "name": "stdout",
     "output_type": "stream",
     "text": [
      "Currently Owning?:  False\n",
      "Last Buying Price: $ 178.58999599999999\n",
      "Current Price: $ 184.979996\n",
      "Current Cash: $ -29.67999199999997\n",
      "Profit: $ -29.67999199999997\n",
      "Number of Transactins: 2\n",
      "Cost of transactions: $ 10\n"
     ]
    },
    {
     "name": "stderr",
     "output_type": "stream",
     "text": [
      "/Users/maxzhang/opt/anaconda3/lib/python3.7/site-packages/statsmodels/base/model.py:568: ConvergenceWarning: Maximum Likelihood optimization failed to converge. Check mle_retvals\n",
      "  \"Check mle_retvals\", ConvergenceWarning)\n",
      "/Users/maxzhang/opt/anaconda3/lib/python3.7/site-packages/statsmodels/tsa/base/tsa_model.py:218: ValueWarning: A date index has been provided, but it has no associated frequency information and so will be ignored when e.g. forecasting.\n",
      "  ' ignored when e.g. forecasting.', ValueWarning)\n",
      "/Users/maxzhang/opt/anaconda3/lib/python3.7/site-packages/statsmodels/tsa/base/tsa_model.py:218: ValueWarning: A date index has been provided, but it has no associated frequency information and so will be ignored when e.g. forecasting.\n",
      "  ' ignored when e.g. forecasting.', ValueWarning)\n"
     ]
    },
    {
     "name": "stdout",
     "output_type": "stream",
     "text": [
      "Currently Owning?:  False\n",
      "Last Buying Price: $ 178.58999599999999\n",
      "Current Price: $ 184.979996\n",
      "Current Cash: $ -30.190001999999993\n",
      "Profit: $ -30.190001999999993\n",
      "Number of Transactins: 2\n",
      "Cost of transactions: $ 10\n"
     ]
    },
    {
     "name": "stderr",
     "output_type": "stream",
     "text": [
      "/Users/maxzhang/opt/anaconda3/lib/python3.7/site-packages/statsmodels/base/model.py:568: ConvergenceWarning: Maximum Likelihood optimization failed to converge. Check mle_retvals\n",
      "  \"Check mle_retvals\", ConvergenceWarning)\n",
      "/Users/maxzhang/opt/anaconda3/lib/python3.7/site-packages/statsmodels/tsa/base/tsa_model.py:218: ValueWarning: A date index has been provided, but it has no associated frequency information and so will be ignored when e.g. forecasting.\n",
      "  ' ignored when e.g. forecasting.', ValueWarning)\n",
      "/Users/maxzhang/opt/anaconda3/lib/python3.7/site-packages/statsmodels/tsa/base/tsa_model.py:218: ValueWarning: A date index has been provided, but it has no associated frequency information and so will be ignored when e.g. forecasting.\n",
      "  ' ignored when e.g. forecasting.', ValueWarning)\n"
     ]
    },
    {
     "name": "stdout",
     "output_type": "stream",
     "text": [
      "Currently Owning?:  False\n",
      "Last Buying Price: $ 178.58999599999999\n",
      "Current Price: $ 184.979996\n",
      "Current Cash: $ -22.479994999999974\n",
      "Profit: $ -22.479994999999974\n",
      "Number of Transactins: 2\n",
      "Cost of transactions: $ 10\n"
     ]
    },
    {
     "name": "stderr",
     "output_type": "stream",
     "text": [
      "/Users/maxzhang/opt/anaconda3/lib/python3.7/site-packages/statsmodels/base/model.py:568: ConvergenceWarning: Maximum Likelihood optimization failed to converge. Check mle_retvals\n",
      "  \"Check mle_retvals\", ConvergenceWarning)\n",
      "/Users/maxzhang/opt/anaconda3/lib/python3.7/site-packages/statsmodels/tsa/base/tsa_model.py:218: ValueWarning: A date index has been provided, but it has no associated frequency information and so will be ignored when e.g. forecasting.\n",
      "  ' ignored when e.g. forecasting.', ValueWarning)\n",
      "/Users/maxzhang/opt/anaconda3/lib/python3.7/site-packages/statsmodels/tsa/base/tsa_model.py:218: ValueWarning: A date index has been provided, but it has no associated frequency information and so will be ignored when e.g. forecasting.\n",
      "  ' ignored when e.g. forecasting.', ValueWarning)\n"
     ]
    },
    {
     "name": "stdout",
     "output_type": "stream",
     "text": [
      "Currently Owning?:  False\n",
      "Last Buying Price: $ 178.58999599999999\n",
      "Current Price: $ 184.979996\n",
      "Current Cash: $ -22.479994999999974\n",
      "Profit: $ -22.479994999999974\n",
      "Number of Transactins: 2\n",
      "Cost of transactions: $ 10\n"
     ]
    },
    {
     "name": "stderr",
     "output_type": "stream",
     "text": [
      "/Users/maxzhang/opt/anaconda3/lib/python3.7/site-packages/statsmodels/base/model.py:568: ConvergenceWarning: Maximum Likelihood optimization failed to converge. Check mle_retvals\n",
      "  \"Check mle_retvals\", ConvergenceWarning)\n",
      "/Users/maxzhang/opt/anaconda3/lib/python3.7/site-packages/statsmodels/tsa/base/tsa_model.py:218: ValueWarning: A date index has been provided, but it has no associated frequency information and so will be ignored when e.g. forecasting.\n",
      "  ' ignored when e.g. forecasting.', ValueWarning)\n",
      "/Users/maxzhang/opt/anaconda3/lib/python3.7/site-packages/statsmodels/tsa/base/tsa_model.py:218: ValueWarning: A date index has been provided, but it has no associated frequency information and so will be ignored when e.g. forecasting.\n",
      "  ' ignored when e.g. forecasting.', ValueWarning)\n"
     ]
    },
    {
     "name": "stdout",
     "output_type": "stream",
     "text": [
      "Currently Owning?:  False\n",
      "Last Buying Price: $ 178.58999599999999\n",
      "Current Price: $ 184.979996\n",
      "Current Cash: $ -22.479994999999974\n",
      "Profit: $ -22.479994999999974\n",
      "Number of Transactins: 2\n",
      "Cost of transactions: $ 10\n"
     ]
    },
    {
     "name": "stderr",
     "output_type": "stream",
     "text": [
      "/Users/maxzhang/opt/anaconda3/lib/python3.7/site-packages/statsmodels/base/model.py:568: ConvergenceWarning: Maximum Likelihood optimization failed to converge. Check mle_retvals\n",
      "  \"Check mle_retvals\", ConvergenceWarning)\n",
      "/Users/maxzhang/opt/anaconda3/lib/python3.7/site-packages/statsmodels/tsa/base/tsa_model.py:218: ValueWarning: A date index has been provided, but it has no associated frequency information and so will be ignored when e.g. forecasting.\n",
      "  ' ignored when e.g. forecasting.', ValueWarning)\n",
      "/Users/maxzhang/opt/anaconda3/lib/python3.7/site-packages/statsmodels/tsa/base/tsa_model.py:218: ValueWarning: A date index has been provided, but it has no associated frequency information and so will be ignored when e.g. forecasting.\n",
      "  ' ignored when e.g. forecasting.', ValueWarning)\n"
     ]
    },
    {
     "name": "stdout",
     "output_type": "stream",
     "text": [
      "Currently Owning?:  False\n",
      "Last Buying Price: $ 178.58999599999999\n",
      "Current Price: $ 184.979996\n",
      "Current Cash: $ -22.479994999999974\n",
      "Profit: $ -22.479994999999974\n",
      "Number of Transactins: 2\n",
      "Cost of transactions: $ 10\n",
      "Currently Owning?:  False\n",
      "Last Buying Price: $ 178.58999599999999\n",
      "Current Price: $ 184.979996\n",
      "Current Cash: $ -22.479994999999974\n",
      "Profit: $ -22.479994999999974\n",
      "Number of Transactins: 2\n",
      "Cost of transactions: $ 10\n"
     ]
    },
    {
     "name": "stderr",
     "output_type": "stream",
     "text": [
      "/Users/maxzhang/opt/anaconda3/lib/python3.7/site-packages/statsmodels/tsa/base/tsa_model.py:218: ValueWarning: A date index has been provided, but it has no associated frequency information and so will be ignored when e.g. forecasting.\n",
      "  ' ignored when e.g. forecasting.', ValueWarning)\n",
      "/Users/maxzhang/opt/anaconda3/lib/python3.7/site-packages/statsmodels/tsa/base/tsa_model.py:218: ValueWarning: A date index has been provided, but it has no associated frequency information and so will be ignored when e.g. forecasting.\n",
      "  ' ignored when e.g. forecasting.', ValueWarning)\n",
      "/Users/maxzhang/opt/anaconda3/lib/python3.7/site-packages/statsmodels/base/model.py:568: ConvergenceWarning: Maximum Likelihood optimization failed to converge. Check mle_retvals\n",
      "  \"Check mle_retvals\", ConvergenceWarning)\n",
      "/Users/maxzhang/opt/anaconda3/lib/python3.7/site-packages/statsmodels/tsa/base/tsa_model.py:218: ValueWarning: A date index has been provided, but it has no associated frequency information and so will be ignored when e.g. forecasting.\n",
      "  ' ignored when e.g. forecasting.', ValueWarning)\n",
      "/Users/maxzhang/opt/anaconda3/lib/python3.7/site-packages/statsmodels/tsa/base/tsa_model.py:218: ValueWarning: A date index has been provided, but it has no associated frequency information and so will be ignored when e.g. forecasting.\n",
      "  ' ignored when e.g. forecasting.', ValueWarning)\n"
     ]
    },
    {
     "name": "stdout",
     "output_type": "stream",
     "text": [
      "Currently Owning?:  False\n",
      "Last Buying Price: $ 178.58999599999999\n",
      "Current Price: $ 184.979996\n",
      "Current Cash: $ -22.479994999999974\n",
      "Profit: $ -22.479994999999974\n",
      "Number of Transactins: 2\n",
      "Cost of transactions: $ 10\n"
     ]
    },
    {
     "name": "stderr",
     "output_type": "stream",
     "text": [
      "/Users/maxzhang/opt/anaconda3/lib/python3.7/site-packages/statsmodels/base/model.py:568: ConvergenceWarning: Maximum Likelihood optimization failed to converge. Check mle_retvals\n",
      "  \"Check mle_retvals\", ConvergenceWarning)\n",
      "/Users/maxzhang/opt/anaconda3/lib/python3.7/site-packages/statsmodels/tsa/base/tsa_model.py:218: ValueWarning: A date index has been provided, but it has no associated frequency information and so will be ignored when e.g. forecasting.\n",
      "  ' ignored when e.g. forecasting.', ValueWarning)\n",
      "/Users/maxzhang/opt/anaconda3/lib/python3.7/site-packages/statsmodels/tsa/base/tsa_model.py:218: ValueWarning: A date index has been provided, but it has no associated frequency information and so will be ignored when e.g. forecasting.\n",
      "  ' ignored when e.g. forecasting.', ValueWarning)\n"
     ]
    },
    {
     "name": "stdout",
     "output_type": "stream",
     "text": [
      "Currently Owning?:  False\n",
      "Last Buying Price: $ 167.770004\n",
      "Current Price: $ 184.979996\n",
      "Current Cash: $ -11.660002999999989\n",
      "Profit: $ -11.660002999999989\n",
      "Number of Transactins: 2\n",
      "Cost of transactions: $ 10\n",
      "Currently Owning?:  False\n",
      "Last Buying Price: $ 167.770004\n",
      "Current Price: $ 184.979996\n",
      "Current Cash: $ -11.660002999999989\n",
      "Profit: $ -11.660002999999989\n",
      "Number of Transactins: 2\n",
      "Cost of transactions: $ 10\n"
     ]
    }
   ],
   "source": [
    "profits = []\n",
    "for i in range(1, 30):\n",
    "    rolmean = pd.Series(stock.Price).rolling(i).mean()\n",
    "    stock['Rolling Mean'] = rolmean\n",
    "    model = sm.tsa.statespace.SARIMAX(stock['Rolling Mean'], trend='n', order=(4, 0, 0))\n",
    "    results = model.fit()\n",
    "    results.summary()\n",
    "    stock['Forecast'] = results.predict()\n",
    "    stock['Target'] = stock['Rolling Mean'].shift(-1)\n",
    "    stock['Predicted Growth'] = stock[['Forecast', 'Price']].apply(lambda x: 1 if x[0] - x[1] >= 5 else 0 if x[0] - x[1] <= -5 else 2, axis = 1)\n",
    "    calculate_profit(stock.iloc[300:], 'Predicted Growth', -1)"
   ]
  }
 ],
 "metadata": {
  "kernelspec": {
   "display_name": "Python 3",
   "language": "python",
   "name": "python3"
  },
  "language_info": {
   "codemirror_mode": {
    "name": "ipython",
    "version": 3
   },
   "file_extension": ".py",
   "mimetype": "text/x-python",
   "name": "python",
   "nbconvert_exporter": "python",
   "pygments_lexer": "ipython3",
   "version": "3.7.4"
  }
 },
 "nbformat": 4,
 "nbformat_minor": 2
}
